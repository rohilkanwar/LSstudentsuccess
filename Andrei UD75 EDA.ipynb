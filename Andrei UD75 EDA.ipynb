{
 "cells": [
  {
   "cell_type": "markdown",
   "metadata": {},
   "source": [
    "## Preparing the Data"
   ]
  },
  {
   "cell_type": "code",
   "execution_count": 1,
   "metadata": {},
   "outputs": [],
   "source": [
    "import numpy as np\n",
    "import pandas as pd\n",
    "import matplotlib.pyplot as plt"
   ]
  },
  {
   "cell_type": "code",
   "execution_count": 2,
   "metadata": {},
   "outputs": [
    {
     "data": {
      "text/plain": [
       "8047"
      ]
     },
     "execution_count": 2,
     "metadata": {},
     "output_type": "execute_result"
    }
   ],
   "source": [
    "semesters = ['1_Fa17', '2_Sp18', '3_Fa18', '4_Sp19', '5_Fa19']\n",
    "df = pd.read_csv('Fa17UD75_hashed.csv')\n",
    "df['Term'] = '1_Fa17'\n",
    "\n",
    "for semester in semesters[1:]:\n",
    "    df_curr = pd.read_csv('{}UD75_hashed.csv'.format(semester[2:]))\n",
    "    df_curr['Term'] = semester\n",
    "    df = df.append(df_curr, sort=False)\n",
    "    df_curr = None\n",
    "\n",
    "len(df)"
   ]
  },
  {
   "cell_type": "code",
   "execution_count": 3,
   "metadata": {},
   "outputs": [
    {
     "data": {
      "text/html": [
       "<div>\n",
       "<style scoped>\n",
       "    .dataframe tbody tr th:only-of-type {\n",
       "        vertical-align: middle;\n",
       "    }\n",
       "\n",
       "    .dataframe tbody tr th {\n",
       "        vertical-align: top;\n",
       "    }\n",
       "\n",
       "    .dataframe thead th {\n",
       "        text-align: right;\n",
       "    }\n",
       "</style>\n",
       "<table border=\"1\" class=\"dataframe\">\n",
       "  <thead>\n",
       "    <tr style=\"text-align: right;\">\n",
       "      <th></th>\n",
       "      <th>Student Id</th>\n",
       "      <th>Entry Status Cd</th>\n",
       "      <th>Educ Non Exam Level Cd</th>\n",
       "      <th>Academic Department Short Nm - Major</th>\n",
       "      <th>Cum Gpa No</th>\n",
       "      <th>Cum Ucb Letgrd Units No</th>\n",
       "      <th>Eot Term Letgrd Units Complete</th>\n",
       "      <th>Eot Term Pnp Units Completed</th>\n",
       "      <th>Eot Trm Tot Letgrd Grd Pnts No</th>\n",
       "      <th>Term</th>\n",
       "    </tr>\n",
       "  </thead>\n",
       "  <tbody>\n",
       "    <tr>\n",
       "      <td>0</td>\n",
       "      <td>f2751edfb91c88e7d8d4554460778dbab4b035afdd66ae...</td>\n",
       "      <td>AD</td>\n",
       "      <td>1</td>\n",
       "      <td>Molecular &amp; Cell Biology</td>\n",
       "      <td>1.700</td>\n",
       "      <td>4.0</td>\n",
       "      <td>4.0</td>\n",
       "      <td>7.0</td>\n",
       "      <td>6.8</td>\n",
       "      <td>1_Fa17</td>\n",
       "    </tr>\n",
       "    <tr>\n",
       "      <td>1</td>\n",
       "      <td>09b1837a61be0cb2675dba8f0b6ebb3e01536449225c34...</td>\n",
       "      <td>AD</td>\n",
       "      <td>3</td>\n",
       "      <td>L&amp;S Undeclared</td>\n",
       "      <td>1.534</td>\n",
       "      <td>17.0</td>\n",
       "      <td>8.0</td>\n",
       "      <td>0.0</td>\n",
       "      <td>21.2</td>\n",
       "      <td>1_Fa17</td>\n",
       "    </tr>\n",
       "    <tr>\n",
       "      <td>2</td>\n",
       "      <td>73d0b22692eb0d8ad1a0908c6dd88bfcc5e8314dd98d14...</td>\n",
       "      <td>NF</td>\n",
       "      <td>4</td>\n",
       "      <td>Molecular &amp; Cell Biology</td>\n",
       "      <td>2.319</td>\n",
       "      <td>72.0</td>\n",
       "      <td>12.0</td>\n",
       "      <td>2.0</td>\n",
       "      <td>42.8</td>\n",
       "      <td>1_Fa17</td>\n",
       "    </tr>\n",
       "    <tr>\n",
       "      <td>3</td>\n",
       "      <td>e6f625c719c35d3bf0b230121547db2c64b73c94778b0b...</td>\n",
       "      <td>NF</td>\n",
       "      <td>4</td>\n",
       "      <td>L&amp;S Undeclared</td>\n",
       "      <td>2.635</td>\n",
       "      <td>70.0</td>\n",
       "      <td>13.0</td>\n",
       "      <td>0.0</td>\n",
       "      <td>39.1</td>\n",
       "      <td>1_Fa17</td>\n",
       "    </tr>\n",
       "    <tr>\n",
       "      <td>4</td>\n",
       "      <td>df971964e68a3df5ee7e9e8380a7c0f2e970c253f361dc...</td>\n",
       "      <td>NF</td>\n",
       "      <td>4</td>\n",
       "      <td>Geography</td>\n",
       "      <td>2.324</td>\n",
       "      <td>64.0</td>\n",
       "      <td>12.0</td>\n",
       "      <td>1.0</td>\n",
       "      <td>46.8</td>\n",
       "      <td>1_Fa17</td>\n",
       "    </tr>\n",
       "  </tbody>\n",
       "</table>\n",
       "</div>"
      ],
      "text/plain": [
       "                                          Student Id Entry Status Cd  \\\n",
       "0  f2751edfb91c88e7d8d4554460778dbab4b035afdd66ae...              AD   \n",
       "1  09b1837a61be0cb2675dba8f0b6ebb3e01536449225c34...              AD   \n",
       "2  73d0b22692eb0d8ad1a0908c6dd88bfcc5e8314dd98d14...              NF   \n",
       "3  e6f625c719c35d3bf0b230121547db2c64b73c94778b0b...              NF   \n",
       "4  df971964e68a3df5ee7e9e8380a7c0f2e970c253f361dc...              NF   \n",
       "\n",
       "  Educ Non Exam Level Cd Academic Department Short Nm - Major  Cum Gpa No  \\\n",
       "0                      1             Molecular & Cell Biology       1.700   \n",
       "1                      3                       L&S Undeclared       1.534   \n",
       "2                      4             Molecular & Cell Biology       2.319   \n",
       "3                      4                       L&S Undeclared       2.635   \n",
       "4                      4                            Geography       2.324   \n",
       "\n",
       "   Cum Ucb Letgrd Units No  Eot Term Letgrd Units Complete  \\\n",
       "0                      4.0                             4.0   \n",
       "1                     17.0                             8.0   \n",
       "2                     72.0                            12.0   \n",
       "3                     70.0                            13.0   \n",
       "4                     64.0                            12.0   \n",
       "\n",
       "   Eot Term Pnp Units Completed  Eot Trm Tot Letgrd Grd Pnts No    Term  \n",
       "0                           7.0                             6.8  1_Fa17  \n",
       "1                           0.0                            21.2  1_Fa17  \n",
       "2                           2.0                            42.8  1_Fa17  \n",
       "3                           0.0                            39.1  1_Fa17  \n",
       "4                           1.0                            46.8  1_Fa17  "
      ]
     },
     "execution_count": 3,
     "metadata": {},
     "output_type": "execute_result"
    }
   ],
   "source": [
    "df = df.drop(columns=['Unnamed: 0', 'Semester Year Name Concat'])\n",
    "df.head()"
   ]
  },
  {
   "cell_type": "code",
   "execution_count": 4,
   "metadata": {},
   "outputs": [
    {
     "data": {
      "text/plain": [
       "0.006872165744494834"
      ]
     },
     "execution_count": 4,
     "metadata": {},
     "output_type": "execute_result"
    }
   ],
   "source": [
    "np.std(df['Cum Gpa No']) / np.sqrt(8047)"
   ]
  },
  {
   "cell_type": "code",
   "execution_count": 320,
   "metadata": {},
   "outputs": [
    {
     "data": {
      "text/plain": [
       "L&S Undeclared                    4540\n",
       "Molecular & Cell Biology           674\n",
       "Interdisc Social Science Pgms      430\n",
       "Mathematics                        314\n",
       "UG Interdisciplinary Studies       255\n",
       "Integrative Biology                232\n",
       "L&S Legal Studies                  145\n",
       "L&S Data Science                   127\n",
       "Sociology                          125\n",
       "Political Science                  113\n",
       "-                                  106\n",
       "English                             94\n",
       "Ag & Resource Econ & Pol            86\n",
       "Art Practice                        69\n",
       "Film and Media                      67\n",
       "Economics                           60\n",
       "History                             54\n",
       "Physics                             51\n",
       "L&S Computer Science                39\n",
       "Rhetoric                            35\n",
       "Theater Dance & Perf Stds           34\n",
       "History of Art                      27\n",
       "Env Sci, Policy, & Mgmt             27\n",
       "Psychology                          24\n",
       "Earth & Planetary Science           24\n",
       "Astronomy                           24\n",
       "Ethnic Studies                      23\n",
       "Linguistics                         22\n",
       "Statistics                          22\n",
       "L&S Social Welfare                  21\n",
       "Anthropology                        21\n",
       "Gender & Womens Studies             16\n",
       "Geography                           14\n",
       "Spanish & Portuguese                13\n",
       "Philosophy                          13\n",
       "East Asian Lang & Culture           10\n",
       "Near Eastern Studies                10\n",
       "Classics                             9\n",
       "French                               8\n",
       "L&S Envir Econ & Policy              8\n",
       "L&S Chemistry                        8\n",
       "African American Studies             8\n",
       "Nutritional Sciences & Tox           6\n",
       "City & Regional Planning             5\n",
       "German                               5\n",
       "South & SE Asian Studies             5\n",
       "Chemistry                            4\n",
       "Music                                3\n",
       "Other Env Design Programs            2\n",
       "Plant & Microbial Biology            2\n",
       "Mechanical Engineering               2\n",
       "Comparative Literature               2\n",
       "Bioengineering                       2\n",
       "L&S Ops Rsch & Mgmt Sci              2\n",
       "Chem & Biomolecular Eng              1\n",
       "Italian Studies                      1\n",
       "Civil & Environmental Eng            1\n",
       "Slavic Languages & Literatures       1\n",
       "Industrial Eng & Ops Research        1\n",
       "Name: Academic Department Short Nm - Major, dtype: int64"
      ]
     },
     "execution_count": 320,
     "metadata": {},
     "output_type": "execute_result"
    }
   ],
   "source": [
    "df['Academic Department Short Nm - Major'].value_counts()"
   ]
  },
  {
   "cell_type": "code",
   "execution_count": 321,
   "metadata": {},
   "outputs": [],
   "source": [
    "df['Resolved'] = ((df['Academic Department Short Nm - Major'] != 'L&S Undeclared') & \n",
    "                  (df['Academic Department Short Nm - Major'] != '-')).astype(int)"
   ]
  },
  {
   "cell_type": "code",
   "execution_count": 322,
   "metadata": {},
   "outputs": [
    {
     "data": {
      "text/plain": [
       "NF    4896\n",
       "AD    3143\n",
       "LM       6\n",
       "-        2\n",
       "Name: Entry Status Cd, dtype: int64"
      ]
     },
     "execution_count": 322,
     "metadata": {},
     "output_type": "execute_result"
    }
   ],
   "source": [
    "df['Entry Status Cd'].value_counts()"
   ]
  },
  {
   "cell_type": "code",
   "execution_count": 323,
   "metadata": {},
   "outputs": [],
   "source": [
    "df = df[df['Entry Status Cd'] != 'LM']"
   ]
  },
  {
   "cell_type": "code",
   "execution_count": 324,
   "metadata": {},
   "outputs": [
    {
     "data": {
      "text/html": [
       "<div>\n",
       "<style scoped>\n",
       "    .dataframe tbody tr th:only-of-type {\n",
       "        vertical-align: middle;\n",
       "    }\n",
       "\n",
       "    .dataframe tbody tr th {\n",
       "        vertical-align: top;\n",
       "    }\n",
       "\n",
       "    .dataframe thead th {\n",
       "        text-align: right;\n",
       "    }\n",
       "</style>\n",
       "<table border=\"1\" class=\"dataframe\">\n",
       "  <thead>\n",
       "    <tr style=\"text-align: right;\">\n",
       "      <th></th>\n",
       "      <th>Student Id</th>\n",
       "      <th>Entry Status Cd</th>\n",
       "      <th>Educ Non Exam Level Cd</th>\n",
       "      <th>Academic Department Short Nm - Major</th>\n",
       "      <th>Cum Gpa No</th>\n",
       "      <th>Cum Ucb Letgrd Units No</th>\n",
       "      <th>Eot Term Letgrd Units Complete</th>\n",
       "      <th>Eot Term Pnp Units Completed</th>\n",
       "      <th>Eot Trm Tot Letgrd Grd Pnts No</th>\n",
       "      <th>Term</th>\n",
       "      <th>Resolved</th>\n",
       "    </tr>\n",
       "  </thead>\n",
       "  <tbody>\n",
       "    <tr>\n",
       "      <td>4</td>\n",
       "      <td>e6f625c719c35d3bf0b230121547db2c64b73c94778b0b...</td>\n",
       "      <td>NF</td>\n",
       "      <td>4</td>\n",
       "      <td>L&amp;S Undeclared</td>\n",
       "      <td>2.531</td>\n",
       "      <td>74.0</td>\n",
       "      <td>NaN</td>\n",
       "      <td>NaN</td>\n",
       "      <td>NaN</td>\n",
       "      <td>3_Fa18</td>\n",
       "      <td>0</td>\n",
       "    </tr>\n",
       "    <tr>\n",
       "      <td>7</td>\n",
       "      <td>23efd78606d69f707e6bd1a87425fb82ac65e901fa5d3a...</td>\n",
       "      <td>AD</td>\n",
       "      <td>-</td>\n",
       "      <td>L&amp;S Undeclared</td>\n",
       "      <td>1.571</td>\n",
       "      <td>7.0</td>\n",
       "      <td>NaN</td>\n",
       "      <td>NaN</td>\n",
       "      <td>NaN</td>\n",
       "      <td>3_Fa18</td>\n",
       "      <td>0</td>\n",
       "    </tr>\n",
       "    <tr>\n",
       "      <td>11</td>\n",
       "      <td>fc83df19b73940c27a746a0ae7564ad734e385bde54750...</td>\n",
       "      <td>NF</td>\n",
       "      <td>4</td>\n",
       "      <td>-</td>\n",
       "      <td>3.005</td>\n",
       "      <td>79.0</td>\n",
       "      <td>NaN</td>\n",
       "      <td>NaN</td>\n",
       "      <td>NaN</td>\n",
       "      <td>3_Fa18</td>\n",
       "      <td>0</td>\n",
       "    </tr>\n",
       "    <tr>\n",
       "      <td>24</td>\n",
       "      <td>b00c3275f5d85dff5c0d66c7c11239624e439175862349...</td>\n",
       "      <td>NF</td>\n",
       "      <td>3</td>\n",
       "      <td>L&amp;S Undeclared</td>\n",
       "      <td>2.338</td>\n",
       "      <td>56.0</td>\n",
       "      <td>NaN</td>\n",
       "      <td>NaN</td>\n",
       "      <td>NaN</td>\n",
       "      <td>3_Fa18</td>\n",
       "      <td>0</td>\n",
       "    </tr>\n",
       "    <tr>\n",
       "      <td>25</td>\n",
       "      <td>121d8a92df223cab94a005a5b8a481ae1dead9c5f52acc...</td>\n",
       "      <td>NF</td>\n",
       "      <td>4</td>\n",
       "      <td>-</td>\n",
       "      <td>3.192</td>\n",
       "      <td>75.0</td>\n",
       "      <td>NaN</td>\n",
       "      <td>NaN</td>\n",
       "      <td>NaN</td>\n",
       "      <td>3_Fa18</td>\n",
       "      <td>0</td>\n",
       "    </tr>\n",
       "    <tr>\n",
       "      <td>...</td>\n",
       "      <td>...</td>\n",
       "      <td>...</td>\n",
       "      <td>...</td>\n",
       "      <td>...</td>\n",
       "      <td>...</td>\n",
       "      <td>...</td>\n",
       "      <td>...</td>\n",
       "      <td>...</td>\n",
       "      <td>...</td>\n",
       "      <td>...</td>\n",
       "      <td>...</td>\n",
       "    </tr>\n",
       "    <tr>\n",
       "      <td>1267</td>\n",
       "      <td>2f3bd11bd6078fb9a938190baa919cce5df38da45488fb...</td>\n",
       "      <td>AD</td>\n",
       "      <td>3</td>\n",
       "      <td>L&amp;S Undeclared</td>\n",
       "      <td>2.850</td>\n",
       "      <td>12.0</td>\n",
       "      <td>NaN</td>\n",
       "      <td>NaN</td>\n",
       "      <td>NaN</td>\n",
       "      <td>5_Fa19</td>\n",
       "      <td>0</td>\n",
       "    </tr>\n",
       "    <tr>\n",
       "      <td>1279</td>\n",
       "      <td>c0042198709a9f65ea4a499dfb92e8b90d8529b35c72e6...</td>\n",
       "      <td>AD</td>\n",
       "      <td>4</td>\n",
       "      <td>L&amp;S Undeclared</td>\n",
       "      <td>0.000</td>\n",
       "      <td>0.0</td>\n",
       "      <td>NaN</td>\n",
       "      <td>NaN</td>\n",
       "      <td>NaN</td>\n",
       "      <td>5_Fa19</td>\n",
       "      <td>0</td>\n",
       "    </tr>\n",
       "    <tr>\n",
       "      <td>1285</td>\n",
       "      <td>df611e364a04019ea3ce0cebdba076a328621d7b0d4f0f...</td>\n",
       "      <td>AD</td>\n",
       "      <td>3</td>\n",
       "      <td>Sociology</td>\n",
       "      <td>2.194</td>\n",
       "      <td>13.0</td>\n",
       "      <td>NaN</td>\n",
       "      <td>NaN</td>\n",
       "      <td>NaN</td>\n",
       "      <td>5_Fa19</td>\n",
       "      <td>1</td>\n",
       "    </tr>\n",
       "    <tr>\n",
       "      <td>1302</td>\n",
       "      <td>2ce576c3aa79b19e34fafc0e2530183e2728ffa68ffe21...</td>\n",
       "      <td>AD</td>\n",
       "      <td>4</td>\n",
       "      <td>Film and Media</td>\n",
       "      <td>2.573</td>\n",
       "      <td>44.0</td>\n",
       "      <td>NaN</td>\n",
       "      <td>NaN</td>\n",
       "      <td>NaN</td>\n",
       "      <td>5_Fa19</td>\n",
       "      <td>1</td>\n",
       "    </tr>\n",
       "    <tr>\n",
       "      <td>1330</td>\n",
       "      <td>56005f81c935e80bd81cea196f539e05d816c6a89f3a1b...</td>\n",
       "      <td>NF</td>\n",
       "      <td>2</td>\n",
       "      <td>-</td>\n",
       "      <td>3.207</td>\n",
       "      <td>13.5</td>\n",
       "      <td>NaN</td>\n",
       "      <td>NaN</td>\n",
       "      <td>NaN</td>\n",
       "      <td>5_Fa19</td>\n",
       "      <td>0</td>\n",
       "    </tr>\n",
       "  </tbody>\n",
       "</table>\n",
       "<p>175 rows × 11 columns</p>\n",
       "</div>"
      ],
      "text/plain": [
       "                                             Student Id Entry Status Cd  \\\n",
       "4     e6f625c719c35d3bf0b230121547db2c64b73c94778b0b...              NF   \n",
       "7     23efd78606d69f707e6bd1a87425fb82ac65e901fa5d3a...              AD   \n",
       "11    fc83df19b73940c27a746a0ae7564ad734e385bde54750...              NF   \n",
       "24    b00c3275f5d85dff5c0d66c7c11239624e439175862349...              NF   \n",
       "25    121d8a92df223cab94a005a5b8a481ae1dead9c5f52acc...              NF   \n",
       "...                                                 ...             ...   \n",
       "1267  2f3bd11bd6078fb9a938190baa919cce5df38da45488fb...              AD   \n",
       "1279  c0042198709a9f65ea4a499dfb92e8b90d8529b35c72e6...              AD   \n",
       "1285  df611e364a04019ea3ce0cebdba076a328621d7b0d4f0f...              AD   \n",
       "1302  2ce576c3aa79b19e34fafc0e2530183e2728ffa68ffe21...              AD   \n",
       "1330  56005f81c935e80bd81cea196f539e05d816c6a89f3a1b...              NF   \n",
       "\n",
       "     Educ Non Exam Level Cd Academic Department Short Nm - Major  Cum Gpa No  \\\n",
       "4                         4                       L&S Undeclared       2.531   \n",
       "7                         -                       L&S Undeclared       1.571   \n",
       "11                        4                                    -       3.005   \n",
       "24                        3                       L&S Undeclared       2.338   \n",
       "25                        4                                    -       3.192   \n",
       "...                     ...                                  ...         ...   \n",
       "1267                      3                       L&S Undeclared       2.850   \n",
       "1279                      4                       L&S Undeclared       0.000   \n",
       "1285                      3                            Sociology       2.194   \n",
       "1302                      4                       Film and Media       2.573   \n",
       "1330                      2                                    -       3.207   \n",
       "\n",
       "      Cum Ucb Letgrd Units No  Eot Term Letgrd Units Complete  \\\n",
       "4                        74.0                             NaN   \n",
       "7                         7.0                             NaN   \n",
       "11                       79.0                             NaN   \n",
       "24                       56.0                             NaN   \n",
       "25                       75.0                             NaN   \n",
       "...                       ...                             ...   \n",
       "1267                     12.0                             NaN   \n",
       "1279                      0.0                             NaN   \n",
       "1285                     13.0                             NaN   \n",
       "1302                     44.0                             NaN   \n",
       "1330                     13.5                             NaN   \n",
       "\n",
       "      Eot Term Pnp Units Completed  Eot Trm Tot Letgrd Grd Pnts No    Term  \\\n",
       "4                              NaN                             NaN  3_Fa18   \n",
       "7                              NaN                             NaN  3_Fa18   \n",
       "11                             NaN                             NaN  3_Fa18   \n",
       "24                             NaN                             NaN  3_Fa18   \n",
       "25                             NaN                             NaN  3_Fa18   \n",
       "...                            ...                             ...     ...   \n",
       "1267                           NaN                             NaN  5_Fa19   \n",
       "1279                           NaN                             NaN  5_Fa19   \n",
       "1285                           NaN                             NaN  5_Fa19   \n",
       "1302                           NaN                             NaN  5_Fa19   \n",
       "1330                           NaN                             NaN  5_Fa19   \n",
       "\n",
       "      Resolved  \n",
       "4            0  \n",
       "7            0  \n",
       "11           0  \n",
       "24           0  \n",
       "25           0  \n",
       "...        ...  \n",
       "1267         0  \n",
       "1279         0  \n",
       "1285         1  \n",
       "1302         1  \n",
       "1330         0  \n",
       "\n",
       "[175 rows x 11 columns]"
      ]
     },
     "execution_count": 324,
     "metadata": {},
     "output_type": "execute_result"
    }
   ],
   "source": [
    "df[df['Eot Trm Tot Letgrd Grd Pnts No'].isnull()]"
   ]
  },
  {
   "cell_type": "code",
   "execution_count": 325,
   "metadata": {},
   "outputs": [
    {
     "data": {
      "text/html": [
       "<div>\n",
       "<style scoped>\n",
       "    .dataframe tbody tr th:only-of-type {\n",
       "        vertical-align: middle;\n",
       "    }\n",
       "\n",
       "    .dataframe tbody tr th {\n",
       "        vertical-align: top;\n",
       "    }\n",
       "\n",
       "    .dataframe thead th {\n",
       "        text-align: right;\n",
       "    }\n",
       "</style>\n",
       "<table border=\"1\" class=\"dataframe\">\n",
       "  <thead>\n",
       "    <tr style=\"text-align: right;\">\n",
       "      <th></th>\n",
       "      <th>Student Id</th>\n",
       "      <th>Entry Status Cd</th>\n",
       "      <th>Educ Non Exam Level Cd</th>\n",
       "      <th>Academic Department Short Nm - Major</th>\n",
       "      <th>Cum Gpa No</th>\n",
       "      <th>Cum Ucb Letgrd Units No</th>\n",
       "      <th>Eot Term Letgrd Units Complete</th>\n",
       "      <th>Eot Term Pnp Units Completed</th>\n",
       "      <th>Eot Trm Tot Letgrd Grd Pnts No</th>\n",
       "      <th>Term</th>\n",
       "      <th>Resolved</th>\n",
       "      <th>Withdrew1</th>\n",
       "    </tr>\n",
       "  </thead>\n",
       "  <tbody>\n",
       "    <tr>\n",
       "      <td>0</td>\n",
       "      <td>f2751edfb91c88e7d8d4554460778dbab4b035afdd66ae...</td>\n",
       "      <td>AD</td>\n",
       "      <td>1</td>\n",
       "      <td>Molecular &amp; Cell Biology</td>\n",
       "      <td>1.700</td>\n",
       "      <td>4.0</td>\n",
       "      <td>4.0</td>\n",
       "      <td>7.0</td>\n",
       "      <td>6.8</td>\n",
       "      <td>1_Fa17</td>\n",
       "      <td>1</td>\n",
       "      <td>0</td>\n",
       "    </tr>\n",
       "    <tr>\n",
       "      <td>1</td>\n",
       "      <td>09b1837a61be0cb2675dba8f0b6ebb3e01536449225c34...</td>\n",
       "      <td>AD</td>\n",
       "      <td>3</td>\n",
       "      <td>L&amp;S Undeclared</td>\n",
       "      <td>1.534</td>\n",
       "      <td>17.0</td>\n",
       "      <td>8.0</td>\n",
       "      <td>0.0</td>\n",
       "      <td>21.2</td>\n",
       "      <td>1_Fa17</td>\n",
       "      <td>0</td>\n",
       "      <td>0</td>\n",
       "    </tr>\n",
       "    <tr>\n",
       "      <td>2</td>\n",
       "      <td>73d0b22692eb0d8ad1a0908c6dd88bfcc5e8314dd98d14...</td>\n",
       "      <td>NF</td>\n",
       "      <td>4</td>\n",
       "      <td>Molecular &amp; Cell Biology</td>\n",
       "      <td>2.319</td>\n",
       "      <td>72.0</td>\n",
       "      <td>12.0</td>\n",
       "      <td>2.0</td>\n",
       "      <td>42.8</td>\n",
       "      <td>1_Fa17</td>\n",
       "      <td>1</td>\n",
       "      <td>0</td>\n",
       "    </tr>\n",
       "    <tr>\n",
       "      <td>3</td>\n",
       "      <td>e6f625c719c35d3bf0b230121547db2c64b73c94778b0b...</td>\n",
       "      <td>NF</td>\n",
       "      <td>4</td>\n",
       "      <td>L&amp;S Undeclared</td>\n",
       "      <td>2.635</td>\n",
       "      <td>70.0</td>\n",
       "      <td>13.0</td>\n",
       "      <td>0.0</td>\n",
       "      <td>39.1</td>\n",
       "      <td>1_Fa17</td>\n",
       "      <td>0</td>\n",
       "      <td>0</td>\n",
       "    </tr>\n",
       "    <tr>\n",
       "      <td>4</td>\n",
       "      <td>df971964e68a3df5ee7e9e8380a7c0f2e970c253f361dc...</td>\n",
       "      <td>NF</td>\n",
       "      <td>4</td>\n",
       "      <td>Geography</td>\n",
       "      <td>2.324</td>\n",
       "      <td>64.0</td>\n",
       "      <td>12.0</td>\n",
       "      <td>1.0</td>\n",
       "      <td>46.8</td>\n",
       "      <td>1_Fa17</td>\n",
       "      <td>1</td>\n",
       "      <td>0</td>\n",
       "    </tr>\n",
       "  </tbody>\n",
       "</table>\n",
       "</div>"
      ],
      "text/plain": [
       "                                          Student Id Entry Status Cd  \\\n",
       "0  f2751edfb91c88e7d8d4554460778dbab4b035afdd66ae...              AD   \n",
       "1  09b1837a61be0cb2675dba8f0b6ebb3e01536449225c34...              AD   \n",
       "2  73d0b22692eb0d8ad1a0908c6dd88bfcc5e8314dd98d14...              NF   \n",
       "3  e6f625c719c35d3bf0b230121547db2c64b73c94778b0b...              NF   \n",
       "4  df971964e68a3df5ee7e9e8380a7c0f2e970c253f361dc...              NF   \n",
       "\n",
       "  Educ Non Exam Level Cd Academic Department Short Nm - Major  Cum Gpa No  \\\n",
       "0                      1             Molecular & Cell Biology       1.700   \n",
       "1                      3                       L&S Undeclared       1.534   \n",
       "2                      4             Molecular & Cell Biology       2.319   \n",
       "3                      4                       L&S Undeclared       2.635   \n",
       "4                      4                            Geography       2.324   \n",
       "\n",
       "   Cum Ucb Letgrd Units No  Eot Term Letgrd Units Complete  \\\n",
       "0                      4.0                             4.0   \n",
       "1                     17.0                             8.0   \n",
       "2                     72.0                            12.0   \n",
       "3                     70.0                            13.0   \n",
       "4                     64.0                            12.0   \n",
       "\n",
       "   Eot Term Pnp Units Completed  Eot Trm Tot Letgrd Grd Pnts No    Term  \\\n",
       "0                           7.0                             6.8  1_Fa17   \n",
       "1                           0.0                            21.2  1_Fa17   \n",
       "2                           2.0                            42.8  1_Fa17   \n",
       "3                           0.0                            39.1  1_Fa17   \n",
       "4                           1.0                            46.8  1_Fa17   \n",
       "\n",
       "   Resolved  Withdrew1  \n",
       "0         1          0  \n",
       "1         0          0  \n",
       "2         1          0  \n",
       "3         0          0  \n",
       "4         1          0  "
      ]
     },
     "execution_count": 325,
     "metadata": {},
     "output_type": "execute_result"
    }
   ],
   "source": [
    "df['Withdrew1'] = df['Eot Trm Tot Letgrd Grd Pnts No'].isnull().astype(int)\n",
    "df.head()"
   ]
  },
  {
   "cell_type": "code",
   "execution_count": 326,
   "metadata": {},
   "outputs": [],
   "source": [
    "df['Withdrew2'] = (df['Academic Department Short Nm - Major'] == '-').astype(int)"
   ]
  },
  {
   "cell_type": "code",
   "execution_count": 327,
   "metadata": {},
   "outputs": [],
   "source": [
    "df['NF'] = (df['Entry Status Cd'] == 'NF').astype(int)\n",
    "df['AD'] = (df['Entry Status Cd'] == 'AD').astype(int)"
   ]
  },
  {
   "cell_type": "code",
   "execution_count": 328,
   "metadata": {},
   "outputs": [],
   "source": [
    "df['Educ Non Exam Level Cd'] = df['Educ Non Exam Level Cd'].astype(str)"
   ]
  },
  {
   "cell_type": "markdown",
   "metadata": {},
   "source": [
    "---"
   ]
  },
  {
   "cell_type": "code",
   "execution_count": 329,
   "metadata": {},
   "outputs": [
    {
     "data": {
      "text/plain": [
       "NF    0.608879\n",
       "AD    0.390872\n",
       "dtype: float64"
      ]
     },
     "execution_count": 329,
     "metadata": {},
     "output_type": "execute_result"
    }
   ],
   "source": [
    "df[['NF', 'AD']].mean()"
   ]
  },
  {
   "cell_type": "code",
   "execution_count": 330,
   "metadata": {},
   "outputs": [
    {
     "data": {
      "text/plain": [
       "NF    0.681965\n",
       "AD    0.318035\n",
       "dtype: float64"
      ]
     },
     "execution_count": 330,
     "metadata": {},
     "output_type": "execute_result"
    }
   ],
   "source": [
    "df_res[['NF', 'AD']].mean()"
   ]
  },
  {
   "cell_type": "code",
   "execution_count": 331,
   "metadata": {},
   "outputs": [
    {
     "data": {
      "text/html": [
       "<div>\n",
       "<style scoped>\n",
       "    .dataframe tbody tr th:only-of-type {\n",
       "        vertical-align: middle;\n",
       "    }\n",
       "\n",
       "    .dataframe tbody tr th {\n",
       "        vertical-align: top;\n",
       "    }\n",
       "\n",
       "    .dataframe thead th {\n",
       "        text-align: right;\n",
       "    }\n",
       "</style>\n",
       "<table border=\"1\" class=\"dataframe\">\n",
       "  <thead>\n",
       "    <tr style=\"text-align: right;\">\n",
       "      <th></th>\n",
       "      <th>NF</th>\n",
       "      <th>AD</th>\n",
       "    </tr>\n",
       "    <tr>\n",
       "      <th>Term</th>\n",
       "      <th></th>\n",
       "      <th></th>\n",
       "    </tr>\n",
       "  </thead>\n",
       "  <tbody>\n",
       "    <tr>\n",
       "      <td>1_Fa17</td>\n",
       "      <td>0.445044</td>\n",
       "      <td>0.554956</td>\n",
       "    </tr>\n",
       "    <tr>\n",
       "      <td>2_Sp18</td>\n",
       "      <td>0.539932</td>\n",
       "      <td>0.460068</td>\n",
       "    </tr>\n",
       "    <tr>\n",
       "      <td>3_Fa18</td>\n",
       "      <td>0.807055</td>\n",
       "      <td>0.192945</td>\n",
       "    </tr>\n",
       "    <tr>\n",
       "      <td>4_Sp19</td>\n",
       "      <td>0.597467</td>\n",
       "      <td>0.401830</td>\n",
       "    </tr>\n",
       "    <tr>\n",
       "      <td>5_Fa19</td>\n",
       "      <td>0.783764</td>\n",
       "      <td>0.215498</td>\n",
       "    </tr>\n",
       "  </tbody>\n",
       "</table>\n",
       "</div>"
      ],
      "text/plain": [
       "              NF        AD\n",
       "Term                      \n",
       "1_Fa17  0.445044  0.554956\n",
       "2_Sp18  0.539932  0.460068\n",
       "3_Fa18  0.807055  0.192945\n",
       "4_Sp19  0.597467  0.401830\n",
       "5_Fa19  0.783764  0.215498"
      ]
     },
     "execution_count": 331,
     "metadata": {},
     "output_type": "execute_result"
    }
   ],
   "source": [
    "gb_es = df[['Term', 'NF', 'AD']].groupby('Term').mean()\n",
    "gb_es"
   ]
  },
  {
   "cell_type": "code",
   "execution_count": 332,
   "metadata": {},
   "outputs": [
    {
     "data": {
      "image/png": "[encoded data removed]",
      "text/plain": [
       "<Figure size 432x288 with 1 Axes>"
      ]
     },
     "metadata": {
      "needs_background": "light"
     },
     "output_type": "display_data"
    }
   ],
   "source": [
    "plt.bar(gb_es.index, gb_es['NF'])\n",
    "plt.xlabel('Semester')\n",
    "plt.ylabel('Rate of Freshman Entry')\n",
    "plt.title('Rate of Freshman Entry per Semester');"
   ]
  },
  {
   "cell_type": "code",
   "execution_count": 333,
   "metadata": {},
   "outputs": [
    {
     "data": {
      "image/png": "[encoded data removed]",
      "text/plain": [
       "<Figure size 432x288 with 1 Axes>"
      ]
     },
     "metadata": {
      "needs_background": "light"
     },
     "output_type": "display_data"
    }
   ],
   "source": [
    "plt.bar(gb_es.index, gb_es['AD'])\n",
    "plt.xlabel('Semester')\n",
    "plt.ylabel('Rate of Junior Transfer Entry')\n",
    "plt.title('Rate of Junior Transfer Entry per Semester');"
   ]
  },
  {
   "cell_type": "code",
   "execution_count": 334,
   "metadata": {},
   "outputs": [
    {
     "data": {
      "text/plain": [
       "3    4252\n",
       "4    3203\n",
       "2     509\n",
       "-      54\n",
       "1      23\n",
       "Name: Educ Non Exam Level Cd, dtype: int64"
      ]
     },
     "execution_count": 334,
     "metadata": {},
     "output_type": "execute_result"
    }
   ],
   "source": [
    "df['Educ Non Exam Level Cd'].value_counts()"
   ]
  },
  {
   "cell_type": "code",
   "execution_count": 335,
   "metadata": {},
   "outputs": [
    {
     "data": {
      "text/plain": [
       "3    1967\n",
       "4    1317\n",
       "2     100\n",
       "-      10\n",
       "1       5\n",
       "Name: Educ Non Exam Level Cd, dtype: int64"
      ]
     },
     "execution_count": 335,
     "metadata": {},
     "output_type": "execute_result"
    }
   ],
   "source": [
    "df_res = df[df['Resolved'] == 1]\n",
    "df_res['Educ Non Exam Level Cd'].value_counts()"
   ]
  },
  {
   "cell_type": "code",
   "execution_count": 336,
   "metadata": {},
   "outputs": [
    {
     "data": {
      "image/png": "[encoded data removed]",
      "text/plain": [
       "<Figure size 432x288 with 1 Axes>"
      ]
     },
     "metadata": {
      "needs_background": "light"
     },
     "output_type": "display_data"
    }
   ],
   "source": [
    "plt.bar(df['Educ Non Exam Level Cd'].value_counts().index, \n",
    "        df['Educ Non Exam Level Cd'].value_counts().values)\n",
    "plt.xlabel('Year')\n",
    "plt.ylabel('Count')\n",
    "plt.title('Counts of Years for Entire Dataset');"
   ]
  },
  {
   "cell_type": "code",
   "execution_count": 337,
   "metadata": {},
   "outputs": [],
   "source": [
    "id_appear = []"
   ]
  },
  {
   "cell_type": "code",
   "execution_count": 338,
   "metadata": {},
   "outputs": [
    {
     "data": {
      "image/png": "[encoded data removed]",
      "text/plain": [
       "<Figure size 432x288 with 1 Axes>"
      ]
     },
     "metadata": {
      "needs_background": "light"
     },
     "output_type": "display_data"
    }
   ],
   "source": [
    "dftemp = df[df['Term'] == '1_Fa17']\n",
    "plt.bar(dftemp['Educ Non Exam Level Cd'].value_counts().index, \n",
    "        dftemp['Educ Non Exam Level Cd'].value_counts().values)\n",
    "plt.xlabel('Year')\n",
    "plt.ylabel('Count')\n",
    "plt.title('Counts of Years for Fall 17');"
   ]
  },
  {
   "cell_type": "code",
   "execution_count": 339,
   "metadata": {},
   "outputs": [],
   "source": [
    "id_appear += list(dftemp['Student Id'].unique())"
   ]
  },
  {
   "cell_type": "code",
   "execution_count": 340,
   "metadata": {},
   "outputs": [
    {
     "data": {
      "text/plain": [
       "L&S Undeclared                   1389\n",
       "Molecular & Cell Biology          225\n",
       "Mathematics                       118\n",
       "Interdisc Social Science Pgms      93\n",
       "Political Science                  68\n",
       "UG Interdisciplinary Studies       61\n",
       "English                            54\n",
       "L&S Legal Studies                  54\n",
       "Integrative Biology                39\n",
       "Sociology                          36\n",
       "Art Practice                       34\n",
       "-                                  31\n",
       "History                            22\n",
       "Theater Dance & Perf Stds          19\n",
       "Physics                            17\n",
       "Ag & Resource Econ & Pol           16\n",
       "Film and Media                     12\n",
       "Anthropology                       12\n",
       "Earth & Planetary Science           9\n",
       "Ethnic Studies                      8\n",
       "Name: Academic Department Short Nm - Major, dtype: int64"
      ]
     },
     "execution_count": 340,
     "metadata": {},
     "output_type": "execute_result"
    }
   ],
   "source": [
    "dftemp['Academic Department Short Nm - Major'].value_counts()[:20]"
   ]
  },
  {
   "cell_type": "code",
   "execution_count": 341,
   "metadata": {},
   "outputs": [
    {
     "data": {
      "image/png": "[encoded data removed]",
      "text/plain": [
       "<Figure size 432x288 with 1 Axes>"
      ]
     },
     "metadata": {
      "needs_background": "light"
     },
     "output_type": "display_data"
    }
   ],
   "source": [
    "dftemp = df[df['Term'] == '2_Sp18']\n",
    "plt.bar(dftemp['Educ Non Exam Level Cd'].value_counts().index, \n",
    "        dftemp['Educ Non Exam Level Cd'].value_counts().values)\n",
    "plt.xlabel('Year')\n",
    "plt.ylabel('Count')\n",
    "plt.title('Counts of Years for Spring 18');"
   ]
  },
  {
   "cell_type": "code",
   "execution_count": 342,
   "metadata": {},
   "outputs": [],
   "source": [
    "id_appear += list(dftemp['Student Id'].unique())"
   ]
  },
  {
   "cell_type": "code",
   "execution_count": 343,
   "metadata": {},
   "outputs": [
    {
     "data": {
      "text/plain": [
       "L&S Undeclared                   859\n",
       "Interdisc Social Science Pgms    123\n",
       "Mathematics                       55\n",
       "UG Interdisciplinary Studies      54\n",
       "Integrative Biology               53\n",
       "Molecular & Cell Biology          50\n",
       "Ag & Resource Econ & Pol          39\n",
       "Sociology                         24\n",
       "-                                 23\n",
       "Film and Media                    17\n",
       "Art Practice                      15\n",
       "Political Science                 14\n",
       "Rhetoric                          14\n",
       "History of Art                    14\n",
       "L&S Legal Studies                 13\n",
       "Physics                           13\n",
       "English                           11\n",
       "History                            9\n",
       "Statistics                         6\n",
       "L&S Envir Econ & Policy            5\n",
       "Name: Academic Department Short Nm - Major, dtype: int64"
      ]
     },
     "execution_count": 343,
     "metadata": {},
     "output_type": "execute_result"
    }
   ],
   "source": [
    "dftemp['Academic Department Short Nm - Major'].value_counts()[:20]"
   ]
  },
  {
   "cell_type": "code",
   "execution_count": 344,
   "metadata": {},
   "outputs": [
    {
     "data": {
      "image/png": "[encoded data removed]",
      "text/plain": [
       "<Figure size 432x288 with 1 Axes>"
      ]
     },
     "metadata": {
      "needs_background": "light"
     },
     "output_type": "display_data"
    }
   ],
   "source": [
    "dftemp = df[df['Term'] == '3_Fa18']\n",
    "plt.bar(dftemp['Educ Non Exam Level Cd'].value_counts().index, \n",
    "        dftemp['Educ Non Exam Level Cd'].value_counts().values)\n",
    "plt.xlabel('Year')\n",
    "plt.ylabel('Count')\n",
    "plt.title('Counts of Years for Fall 18');"
   ]
  },
  {
   "cell_type": "code",
   "execution_count": 345,
   "metadata": {},
   "outputs": [],
   "source": [
    "id_appear += list(dftemp['Student Id'].unique())"
   ]
  },
  {
   "cell_type": "code",
   "execution_count": 346,
   "metadata": {},
   "outputs": [
    {
     "data": {
      "text/plain": [
       "L&S Undeclared                   692\n",
       "Molecular & Cell Biology         162\n",
       "Interdisc Social Science Pgms     91\n",
       "L&S Data Science                  73\n",
       "Integrative Biology               57\n",
       "Mathematics                       50\n",
       "UG Interdisciplinary Studies      46\n",
       "Sociology                         26\n",
       "-                                 18\n",
       "L&S Legal Studies                 18\n",
       "Political Science                 15\n",
       "Ag & Resource Econ & Pol          13\n",
       "L&S Computer Science              11\n",
       "Economics                         11\n",
       "History                           11\n",
       "Film and Media                     9\n",
       "English                            8\n",
       "Art Practice                       8\n",
       "Physics                            6\n",
       "Linguistics                        5\n",
       "Name: Academic Department Short Nm - Major, dtype: int64"
      ]
     },
     "execution_count": 346,
     "metadata": {},
     "output_type": "execute_result"
    }
   ],
   "source": [
    "dftemp['Academic Department Short Nm - Major'].value_counts()[:20]"
   ]
  },
  {
   "cell_type": "code",
   "execution_count": 347,
   "metadata": {},
   "outputs": [
    {
     "data": {
      "image/png": "[encoded data removed]",
      "text/plain": [
       "<Figure size 432x288 with 1 Axes>"
      ]
     },
     "metadata": {
      "needs_background": "light"
     },
     "output_type": "display_data"
    }
   ],
   "source": [
    "dftemp = df[df['Term'] == '4_Sp19']\n",
    "plt.bar(dftemp['Educ Non Exam Level Cd'].value_counts().index, \n",
    "        dftemp['Educ Non Exam Level Cd'].value_counts().values)\n",
    "plt.xlabel('Year')\n",
    "plt.ylabel('Count')\n",
    "plt.title('Counts of Years for Spring 19');"
   ]
  },
  {
   "cell_type": "code",
   "execution_count": 348,
   "metadata": {},
   "outputs": [],
   "source": [
    "id_appear += list(dftemp['Student Id'].unique())"
   ]
  },
  {
   "cell_type": "code",
   "execution_count": 349,
   "metadata": {},
   "outputs": [
    {
     "data": {
      "text/plain": [
       "L&S Undeclared                   890\n",
       "Molecular & Cell Biology          78\n",
       "UG Interdisciplinary Studies      55\n",
       "Mathematics                       54\n",
       "Interdisc Social Science Pgms     45\n",
       "L&S Legal Studies                 40\n",
       "Integrative Biology               34\n",
       "Economics                         23\n",
       "Sociology                         19\n",
       "-                                 19\n",
       "Film and Media                    18\n",
       "L&S Data Science                  16\n",
       "English                           15\n",
       "Rhetoric                          10\n",
       "Earth & Planetary Science          9\n",
       "Ag & Resource Econ & Pol           8\n",
       "Physics                            8\n",
       "History of Art                     8\n",
       "Astronomy                          6\n",
       "History                            6\n",
       "Name: Academic Department Short Nm - Major, dtype: int64"
      ]
     },
     "execution_count": 349,
     "metadata": {},
     "output_type": "execute_result"
    }
   ],
   "source": [
    "dftemp['Academic Department Short Nm - Major'].value_counts()[:20]"
   ]
  },
  {
   "cell_type": "code",
   "execution_count": 350,
   "metadata": {},
   "outputs": [
    {
     "data": {
      "image/png": "[encoded data removed]",
      "text/plain": [
       "<Figure size 432x288 with 1 Axes>"
      ]
     },
     "metadata": {
      "needs_background": "light"
     },
     "output_type": "display_data"
    }
   ],
   "source": [
    "dftemp = df[df['Term'] == '5_Fa19']\n",
    "plt.bar(dftemp['Educ Non Exam Level Cd'].value_counts().index, \n",
    "        dftemp['Educ Non Exam Level Cd'].value_counts().values)\n",
    "plt.xlabel('Year')\n",
    "plt.ylabel('Count')\n",
    "plt.title('Counts of Years for Fall 19');"
   ]
  },
  {
   "cell_type": "code",
   "execution_count": 351,
   "metadata": {},
   "outputs": [],
   "source": [
    "id_appear += list(dftemp['Student Id'].unique())"
   ]
  },
  {
   "cell_type": "code",
   "execution_count": 352,
   "metadata": {},
   "outputs": [
    {
     "data": {
      "text/plain": [
       "L&S Undeclared                   706\n",
       "Molecular & Cell Biology         159\n",
       "Interdisc Social Science Pgms     78\n",
       "Integrative Biology               49\n",
       "UG Interdisciplinary Studies      39\n",
       "L&S Data Science                  38\n",
       "Mathematics                       37\n",
       "Economics                         23\n",
       "Sociology                         20\n",
       "L&S Legal Studies                 20\n",
       "L&S Social Welfare                19\n",
       "L&S Computer Science              18\n",
       "-                                 15\n",
       "Political Science                 13\n",
       "Film and Media                    11\n",
       "Env Sci, Policy, & Mgmt           11\n",
       "Ag & Resource Econ & Pol          10\n",
       "Art Practice                       8\n",
       "Psychology                         8\n",
       "Ethnic Studies                     8\n",
       "Name: Academic Department Short Nm - Major, dtype: int64"
      ]
     },
     "execution_count": 352,
     "metadata": {},
     "output_type": "execute_result"
    }
   ],
   "source": [
    "dftemp['Academic Department Short Nm - Major'].value_counts()[:20]"
   ]
  },
  {
   "cell_type": "code",
   "execution_count": 353,
   "metadata": {},
   "outputs": [
    {
     "data": {
      "text/html": [
       "<div>\n",
       "<style scoped>\n",
       "    .dataframe tbody tr th:only-of-type {\n",
       "        vertical-align: middle;\n",
       "    }\n",
       "\n",
       "    .dataframe tbody tr th {\n",
       "        vertical-align: top;\n",
       "    }\n",
       "\n",
       "    .dataframe thead th {\n",
       "        text-align: right;\n",
       "    }\n",
       "</style>\n",
       "<table border=\"1\" class=\"dataframe\">\n",
       "  <thead>\n",
       "    <tr style=\"text-align: right;\">\n",
       "      <th></th>\n",
       "      <th>Resolved</th>\n",
       "    </tr>\n",
       "    <tr>\n",
       "      <th>Term</th>\n",
       "      <th></th>\n",
       "    </tr>\n",
       "  </thead>\n",
       "  <tbody>\n",
       "    <tr>\n",
       "      <td>1_Fa17</td>\n",
       "      <td>0.411033</td>\n",
       "    </tr>\n",
       "    <tr>\n",
       "      <td>2_Sp18</td>\n",
       "      <td>0.397952</td>\n",
       "    </tr>\n",
       "    <tr>\n",
       "      <td>3_Fa18</td>\n",
       "      <td>0.488841</td>\n",
       "    </tr>\n",
       "    <tr>\n",
       "      <td>4_Sp19</td>\n",
       "      <td>0.360310</td>\n",
       "    </tr>\n",
       "    <tr>\n",
       "      <td>5_Fa19</td>\n",
       "      <td>0.467897</td>\n",
       "    </tr>\n",
       "  </tbody>\n",
       "</table>\n",
       "</div>"
      ],
      "text/plain": [
       "        Resolved\n",
       "Term            \n",
       "1_Fa17  0.411033\n",
       "2_Sp18  0.397952\n",
       "3_Fa18  0.488841\n",
       "4_Sp19  0.360310\n",
       "5_Fa19  0.467897"
      ]
     },
     "execution_count": 353,
     "metadata": {},
     "output_type": "execute_result"
    }
   ],
   "source": [
    "gb_res = df[['Term', 'Resolved']].groupby('Term').mean()\n",
    "gb_res"
   ]
  },
  {
   "cell_type": "code",
   "execution_count": 354,
   "metadata": {},
   "outputs": [
    {
     "data": {
      "image/png": "[encoded data removed]",
      "text/plain": [
       "<Figure size 432x288 with 1 Axes>"
      ]
     },
     "metadata": {
      "needs_background": "light"
     },
     "output_type": "display_data"
    }
   ],
   "source": [
    "plt.bar(gb_res.index, gb_res.Resolved)\n",
    "plt.xlabel('Semester')\n",
    "plt.ylabel('Resolve Rate')\n",
    "plt.title('Resolve Rate per Semester');"
   ]
  },
  {
   "cell_type": "code",
   "execution_count": 355,
   "metadata": {},
   "outputs": [],
   "source": [
    "test = dftemp['Student Id'].value_counts().index[0]"
   ]
  },
  {
   "cell_type": "code",
   "execution_count": 356,
   "metadata": {},
   "outputs": [
    {
     "data": {
      "text/html": [
       "<div>\n",
       "<style scoped>\n",
       "    .dataframe tbody tr th:only-of-type {\n",
       "        vertical-align: middle;\n",
       "    }\n",
       "\n",
       "    .dataframe tbody tr th {\n",
       "        vertical-align: top;\n",
       "    }\n",
       "\n",
       "    .dataframe thead th {\n",
       "        text-align: right;\n",
       "    }\n",
       "</style>\n",
       "<table border=\"1\" class=\"dataframe\">\n",
       "  <thead>\n",
       "    <tr style=\"text-align: right;\">\n",
       "      <th></th>\n",
       "      <th>Student Id</th>\n",
       "      <th>Entry Status Cd</th>\n",
       "      <th>Educ Non Exam Level Cd</th>\n",
       "      <th>Academic Department Short Nm - Major</th>\n",
       "      <th>Cum Gpa No</th>\n",
       "      <th>Cum Ucb Letgrd Units No</th>\n",
       "      <th>Eot Term Letgrd Units Complete</th>\n",
       "      <th>Eot Term Pnp Units Completed</th>\n",
       "      <th>Eot Trm Tot Letgrd Grd Pnts No</th>\n",
       "      <th>Term</th>\n",
       "      <th>Resolved</th>\n",
       "      <th>Withdrew1</th>\n",
       "      <th>Withdrew2</th>\n",
       "      <th>NF</th>\n",
       "      <th>AD</th>\n",
       "    </tr>\n",
       "  </thead>\n",
       "  <tbody>\n",
       "    <tr>\n",
       "      <td>1182</td>\n",
       "      <td>77a7c033b133e9fdb522112e00ea1cb9d675d4f65f2413...</td>\n",
       "      <td>NF</td>\n",
       "      <td>2</td>\n",
       "      <td>Gender &amp; Womens Studies</td>\n",
       "      <td>3.794</td>\n",
       "      <td>37.0</td>\n",
       "      <td>12.0</td>\n",
       "      <td>4.0</td>\n",
       "      <td>45.6</td>\n",
       "      <td>5_Fa19</td>\n",
       "      <td>1</td>\n",
       "      <td>0</td>\n",
       "      <td>0</td>\n",
       "      <td>1</td>\n",
       "      <td>0</td>\n",
       "    </tr>\n",
       "    <tr>\n",
       "      <td>1183</td>\n",
       "      <td>77a7c033b133e9fdb522112e00ea1cb9d675d4f65f2413...</td>\n",
       "      <td>NF</td>\n",
       "      <td>2</td>\n",
       "      <td>L&amp;S Social Welfare</td>\n",
       "      <td>3.794</td>\n",
       "      <td>37.0</td>\n",
       "      <td>12.0</td>\n",
       "      <td>4.0</td>\n",
       "      <td>45.6</td>\n",
       "      <td>5_Fa19</td>\n",
       "      <td>1</td>\n",
       "      <td>0</td>\n",
       "      <td>0</td>\n",
       "      <td>1</td>\n",
       "      <td>0</td>\n",
       "    </tr>\n",
       "    <tr>\n",
       "      <td>1184</td>\n",
       "      <td>77a7c033b133e9fdb522112e00ea1cb9d675d4f65f2413...</td>\n",
       "      <td>NF</td>\n",
       "      <td>2</td>\n",
       "      <td>Sociology</td>\n",
       "      <td>3.794</td>\n",
       "      <td>37.0</td>\n",
       "      <td>12.0</td>\n",
       "      <td>4.0</td>\n",
       "      <td>45.6</td>\n",
       "      <td>5_Fa19</td>\n",
       "      <td>1</td>\n",
       "      <td>0</td>\n",
       "      <td>0</td>\n",
       "      <td>1</td>\n",
       "      <td>0</td>\n",
       "    </tr>\n",
       "  </tbody>\n",
       "</table>\n",
       "</div>"
      ],
      "text/plain": [
       "                                             Student Id Entry Status Cd  \\\n",
       "1182  77a7c033b133e9fdb522112e00ea1cb9d675d4f65f2413...              NF   \n",
       "1183  77a7c033b133e9fdb522112e00ea1cb9d675d4f65f2413...              NF   \n",
       "1184  77a7c033b133e9fdb522112e00ea1cb9d675d4f65f2413...              NF   \n",
       "\n",
       "     Educ Non Exam Level Cd Academic Department Short Nm - Major  Cum Gpa No  \\\n",
       "1182                      2              Gender & Womens Studies       3.794   \n",
       "1183                      2                   L&S Social Welfare       3.794   \n",
       "1184                      2                            Sociology       3.794   \n",
       "\n",
       "      Cum Ucb Letgrd Units No  Eot Term Letgrd Units Complete  \\\n",
       "1182                     37.0                            12.0   \n",
       "1183                     37.0                            12.0   \n",
       "1184                     37.0                            12.0   \n",
       "\n",
       "      Eot Term Pnp Units Completed  Eot Trm Tot Letgrd Grd Pnts No    Term  \\\n",
       "1182                           4.0                            45.6  5_Fa19   \n",
       "1183                           4.0                            45.6  5_Fa19   \n",
       "1184                           4.0                            45.6  5_Fa19   \n",
       "\n",
       "      Resolved  Withdrew1  Withdrew2  NF  AD  \n",
       "1182         1          0          0   1   0  \n",
       "1183         1          0          0   1   0  \n",
       "1184         1          0          0   1   0  "
      ]
     },
     "execution_count": 356,
     "metadata": {},
     "output_type": "execute_result"
    }
   ],
   "source": [
    "dftemp[dftemp['Student Id'] == test]"
   ]
  },
  {
   "cell_type": "code",
   "execution_count": 358,
   "metadata": {},
   "outputs": [],
   "source": [
    "id_appear_df = pd.DataFrame(id_appear)"
   ]
  },
  {
   "cell_type": "code",
   "execution_count": 368,
   "metadata": {},
   "outputs": [],
   "source": [
    "ids = pd.DataFrame(id_appear_df[0].value_counts() > 1)\n",
    "ids = ids[ids[0] == True]"
   ]
  },
  {
   "cell_type": "code",
   "execution_count": 373,
   "metadata": {},
   "outputs": [],
   "source": [
    "df['In'] = df['Student Id'].apply(lambda row: row in ids.index)\n",
    "df_mult = df[df['In'] == True]"
   ]
  },
  {
   "cell_type": "code",
   "execution_count": 374,
   "metadata": {},
   "outputs": [
    {
     "data": {
      "text/html": [
       "<div>\n",
       "<style scoped>\n",
       "    .dataframe tbody tr th:only-of-type {\n",
       "        vertical-align: middle;\n",
       "    }\n",
       "\n",
       "    .dataframe tbody tr th {\n",
       "        vertical-align: top;\n",
       "    }\n",
       "\n",
       "    .dataframe thead th {\n",
       "        text-align: right;\n",
       "    }\n",
       "</style>\n",
       "<table border=\"1\" class=\"dataframe\">\n",
       "  <thead>\n",
       "    <tr style=\"text-align: right;\">\n",
       "      <th></th>\n",
       "      <th>Student Id</th>\n",
       "      <th>Entry Status Cd</th>\n",
       "      <th>Educ Non Exam Level Cd</th>\n",
       "      <th>Academic Department Short Nm - Major</th>\n",
       "      <th>Cum Gpa No</th>\n",
       "      <th>Cum Ucb Letgrd Units No</th>\n",
       "      <th>Eot Term Letgrd Units Complete</th>\n",
       "      <th>Eot Term Pnp Units Completed</th>\n",
       "      <th>Eot Trm Tot Letgrd Grd Pnts No</th>\n",
       "      <th>Term</th>\n",
       "      <th>Resolved</th>\n",
       "      <th>Withdrew1</th>\n",
       "      <th>Withdrew2</th>\n",
       "      <th>NF</th>\n",
       "      <th>AD</th>\n",
       "      <th>In</th>\n",
       "    </tr>\n",
       "  </thead>\n",
       "  <tbody>\n",
       "    <tr>\n",
       "      <td>0</td>\n",
       "      <td>f2751edfb91c88e7d8d4554460778dbab4b035afdd66ae...</td>\n",
       "      <td>AD</td>\n",
       "      <td>1</td>\n",
       "      <td>Molecular &amp; Cell Biology</td>\n",
       "      <td>1.700</td>\n",
       "      <td>4.0</td>\n",
       "      <td>4.0</td>\n",
       "      <td>7.0</td>\n",
       "      <td>6.8</td>\n",
       "      <td>1_Fa17</td>\n",
       "      <td>1</td>\n",
       "      <td>0</td>\n",
       "      <td>0</td>\n",
       "      <td>0</td>\n",
       "      <td>1</td>\n",
       "      <td>True</td>\n",
       "    </tr>\n",
       "    <tr>\n",
       "      <td>1</td>\n",
       "      <td>09b1837a61be0cb2675dba8f0b6ebb3e01536449225c34...</td>\n",
       "      <td>AD</td>\n",
       "      <td>3</td>\n",
       "      <td>L&amp;S Undeclared</td>\n",
       "      <td>1.534</td>\n",
       "      <td>17.0</td>\n",
       "      <td>8.0</td>\n",
       "      <td>0.0</td>\n",
       "      <td>21.2</td>\n",
       "      <td>1_Fa17</td>\n",
       "      <td>0</td>\n",
       "      <td>0</td>\n",
       "      <td>0</td>\n",
       "      <td>0</td>\n",
       "      <td>1</td>\n",
       "      <td>True</td>\n",
       "    </tr>\n",
       "    <tr>\n",
       "      <td>3</td>\n",
       "      <td>e6f625c719c35d3bf0b230121547db2c64b73c94778b0b...</td>\n",
       "      <td>NF</td>\n",
       "      <td>4</td>\n",
       "      <td>L&amp;S Undeclared</td>\n",
       "      <td>2.635</td>\n",
       "      <td>70.0</td>\n",
       "      <td>13.0</td>\n",
       "      <td>0.0</td>\n",
       "      <td>39.1</td>\n",
       "      <td>1_Fa17</td>\n",
       "      <td>0</td>\n",
       "      <td>0</td>\n",
       "      <td>0</td>\n",
       "      <td>1</td>\n",
       "      <td>0</td>\n",
       "      <td>True</td>\n",
       "    </tr>\n",
       "    <tr>\n",
       "      <td>5</td>\n",
       "      <td>979fbd753328c3a0543a64dfcbf7c3c117bb947faab0d1...</td>\n",
       "      <td>NF</td>\n",
       "      <td>3</td>\n",
       "      <td>L&amp;S Undeclared</td>\n",
       "      <td>2.310</td>\n",
       "      <td>39.0</td>\n",
       "      <td>6.0</td>\n",
       "      <td>0.0</td>\n",
       "      <td>11.4</td>\n",
       "      <td>1_Fa17</td>\n",
       "      <td>0</td>\n",
       "      <td>0</td>\n",
       "      <td>0</td>\n",
       "      <td>1</td>\n",
       "      <td>0</td>\n",
       "      <td>True</td>\n",
       "    </tr>\n",
       "    <tr>\n",
       "      <td>6</td>\n",
       "      <td>7efa9d1237dd4e516c51d483b71c58fc348b433287c3bb...</td>\n",
       "      <td>NF</td>\n",
       "      <td>-</td>\n",
       "      <td>L&amp;S Undeclared</td>\n",
       "      <td>2.169</td>\n",
       "      <td>80.0</td>\n",
       "      <td>8.0</td>\n",
       "      <td>0.0</td>\n",
       "      <td>13.2</td>\n",
       "      <td>1_Fa17</td>\n",
       "      <td>0</td>\n",
       "      <td>0</td>\n",
       "      <td>0</td>\n",
       "      <td>1</td>\n",
       "      <td>0</td>\n",
       "      <td>True</td>\n",
       "    </tr>\n",
       "    <tr>\n",
       "      <td>...</td>\n",
       "      <td>...</td>\n",
       "      <td>...</td>\n",
       "      <td>...</td>\n",
       "      <td>...</td>\n",
       "      <td>...</td>\n",
       "      <td>...</td>\n",
       "      <td>...</td>\n",
       "      <td>...</td>\n",
       "      <td>...</td>\n",
       "      <td>...</td>\n",
       "      <td>...</td>\n",
       "      <td>...</td>\n",
       "      <td>...</td>\n",
       "      <td>...</td>\n",
       "      <td>...</td>\n",
       "      <td>...</td>\n",
       "    </tr>\n",
       "    <tr>\n",
       "      <td>1344</td>\n",
       "      <td>70c142da332b0d0fdc2605838ae05dbb46a75ba990142b...</td>\n",
       "      <td>NF</td>\n",
       "      <td>2</td>\n",
       "      <td>Psychology</td>\n",
       "      <td>3.618</td>\n",
       "      <td>27.0</td>\n",
       "      <td>6.0</td>\n",
       "      <td>9.0</td>\n",
       "      <td>21.9</td>\n",
       "      <td>5_Fa19</td>\n",
       "      <td>1</td>\n",
       "      <td>0</td>\n",
       "      <td>0</td>\n",
       "      <td>1</td>\n",
       "      <td>0</td>\n",
       "      <td>True</td>\n",
       "    </tr>\n",
       "    <tr>\n",
       "      <td>1345</td>\n",
       "      <td>cda114190f4c87fe8c3440c9c297020878c86c1177ed7a...</td>\n",
       "      <td>NF</td>\n",
       "      <td>2</td>\n",
       "      <td>L&amp;S Undeclared</td>\n",
       "      <td>3.697</td>\n",
       "      <td>37.0</td>\n",
       "      <td>11.0</td>\n",
       "      <td>5.0</td>\n",
       "      <td>37.9</td>\n",
       "      <td>5_Fa19</td>\n",
       "      <td>0</td>\n",
       "      <td>0</td>\n",
       "      <td>0</td>\n",
       "      <td>1</td>\n",
       "      <td>0</td>\n",
       "      <td>True</td>\n",
       "    </tr>\n",
       "    <tr>\n",
       "      <td>1346</td>\n",
       "      <td>253a8b58c5c63c931403df47cd6a43864d4b1d52d5cc35...</td>\n",
       "      <td>NF</td>\n",
       "      <td>2</td>\n",
       "      <td>L&amp;S Undeclared</td>\n",
       "      <td>2.892</td>\n",
       "      <td>41.0</td>\n",
       "      <td>11.0</td>\n",
       "      <td>NaN</td>\n",
       "      <td>20.2</td>\n",
       "      <td>5_Fa19</td>\n",
       "      <td>0</td>\n",
       "      <td>0</td>\n",
       "      <td>0</td>\n",
       "      <td>1</td>\n",
       "      <td>0</td>\n",
       "      <td>True</td>\n",
       "    </tr>\n",
       "    <tr>\n",
       "      <td>1347</td>\n",
       "      <td>15a86ab14081d09bb6c68b2c619369c481472f4adc47fa...</td>\n",
       "      <td>NF</td>\n",
       "      <td>2</td>\n",
       "      <td>L&amp;S Undeclared</td>\n",
       "      <td>3.737</td>\n",
       "      <td>40.0</td>\n",
       "      <td>12.0</td>\n",
       "      <td>1.0</td>\n",
       "      <td>38.4</td>\n",
       "      <td>5_Fa19</td>\n",
       "      <td>0</td>\n",
       "      <td>0</td>\n",
       "      <td>0</td>\n",
       "      <td>1</td>\n",
       "      <td>0</td>\n",
       "      <td>True</td>\n",
       "    </tr>\n",
       "    <tr>\n",
       "      <td>1350</td>\n",
       "      <td>cada315cd568caf3b68e5ea809701194adec190c271ae3...</td>\n",
       "      <td>AD</td>\n",
       "      <td>3</td>\n",
       "      <td>L&amp;S Undeclared</td>\n",
       "      <td>2.797</td>\n",
       "      <td>35.0</td>\n",
       "      <td>11.0</td>\n",
       "      <td>NaN</td>\n",
       "      <td>33.9</td>\n",
       "      <td>5_Fa19</td>\n",
       "      <td>0</td>\n",
       "      <td>0</td>\n",
       "      <td>0</td>\n",
       "      <td>0</td>\n",
       "      <td>1</td>\n",
       "      <td>True</td>\n",
       "    </tr>\n",
       "  </tbody>\n",
       "</table>\n",
       "<p>3512 rows × 16 columns</p>\n",
       "</div>"
      ],
      "text/plain": [
       "                                             Student Id Entry Status Cd  \\\n",
       "0     f2751edfb91c88e7d8d4554460778dbab4b035afdd66ae...              AD   \n",
       "1     09b1837a61be0cb2675dba8f0b6ebb3e01536449225c34...              AD   \n",
       "3     e6f625c719c35d3bf0b230121547db2c64b73c94778b0b...              NF   \n",
       "5     979fbd753328c3a0543a64dfcbf7c3c117bb947faab0d1...              NF   \n",
       "6     7efa9d1237dd4e516c51d483b71c58fc348b433287c3bb...              NF   \n",
       "...                                                 ...             ...   \n",
       "1344  70c142da332b0d0fdc2605838ae05dbb46a75ba990142b...              NF   \n",
       "1345  cda114190f4c87fe8c3440c9c297020878c86c1177ed7a...              NF   \n",
       "1346  253a8b58c5c63c931403df47cd6a43864d4b1d52d5cc35...              NF   \n",
       "1347  15a86ab14081d09bb6c68b2c619369c481472f4adc47fa...              NF   \n",
       "1350  cada315cd568caf3b68e5ea809701194adec190c271ae3...              AD   \n",
       "\n",
       "     Educ Non Exam Level Cd Academic Department Short Nm - Major  Cum Gpa No  \\\n",
       "0                         1             Molecular & Cell Biology       1.700   \n",
       "1                         3                       L&S Undeclared       1.534   \n",
       "3                         4                       L&S Undeclared       2.635   \n",
       "5                         3                       L&S Undeclared       2.310   \n",
       "6                         -                       L&S Undeclared       2.169   \n",
       "...                     ...                                  ...         ...   \n",
       "1344                      2                           Psychology       3.618   \n",
       "1345                      2                       L&S Undeclared       3.697   \n",
       "1346                      2                       L&S Undeclared       2.892   \n",
       "1347                      2                       L&S Undeclared       3.737   \n",
       "1350                      3                       L&S Undeclared       2.797   \n",
       "\n",
       "      Cum Ucb Letgrd Units No  Eot Term Letgrd Units Complete  \\\n",
       "0                         4.0                             4.0   \n",
       "1                        17.0                             8.0   \n",
       "3                        70.0                            13.0   \n",
       "5                        39.0                             6.0   \n",
       "6                        80.0                             8.0   \n",
       "...                       ...                             ...   \n",
       "1344                     27.0                             6.0   \n",
       "1345                     37.0                            11.0   \n",
       "1346                     41.0                            11.0   \n",
       "1347                     40.0                            12.0   \n",
       "1350                     35.0                            11.0   \n",
       "\n",
       "      Eot Term Pnp Units Completed  Eot Trm Tot Letgrd Grd Pnts No    Term  \\\n",
       "0                              7.0                             6.8  1_Fa17   \n",
       "1                              0.0                            21.2  1_Fa17   \n",
       "3                              0.0                            39.1  1_Fa17   \n",
       "5                              0.0                            11.4  1_Fa17   \n",
       "6                              0.0                            13.2  1_Fa17   \n",
       "...                            ...                             ...     ...   \n",
       "1344                           9.0                            21.9  5_Fa19   \n",
       "1345                           5.0                            37.9  5_Fa19   \n",
       "1346                           NaN                            20.2  5_Fa19   \n",
       "1347                           1.0                            38.4  5_Fa19   \n",
       "1350                           NaN                            33.9  5_Fa19   \n",
       "\n",
       "      Resolved  Withdrew1  Withdrew2  NF  AD    In  \n",
       "0            1          0          0   0   1  True  \n",
       "1            0          0          0   0   1  True  \n",
       "3            0          0          0   1   0  True  \n",
       "5            0          0          0   1   0  True  \n",
       "6            0          0          0   1   0  True  \n",
       "...        ...        ...        ...  ..  ..   ...  \n",
       "1344         1          0          0   1   0  True  \n",
       "1345         0          0          0   1   0  True  \n",
       "1346         0          0          0   1   0  True  \n",
       "1347         0          0          0   1   0  True  \n",
       "1350         0          0          0   0   1  True  \n",
       "\n",
       "[3512 rows x 16 columns]"
      ]
     },
     "execution_count": 374,
     "metadata": {},
     "output_type": "execute_result"
    }
   ],
   "source": [
    "df_mult"
   ]
  },
  {
   "cell_type": "code",
   "execution_count": 375,
   "metadata": {},
   "outputs": [
    {
     "data": {
      "text/plain": [
       "NF    0.534453\n",
       "AD    0.464977\n",
       "dtype: float64"
      ]
     },
     "execution_count": 375,
     "metadata": {},
     "output_type": "execute_result"
    }
   ],
   "source": [
    "df_mult[['NF', 'AD']].mean()"
   ]
  },
  {
   "cell_type": "code",
   "execution_count": 376,
   "metadata": {},
   "outputs": [
    {
     "data": {
      "text/plain": [
       "4    1971\n",
       "3    1193\n",
       "2     301\n",
       "-      31\n",
       "1      16\n",
       "Name: Educ Non Exam Level Cd, dtype: int64"
      ]
     },
     "execution_count": 376,
     "metadata": {},
     "output_type": "execute_result"
    }
   ],
   "source": [
    "df_mult['Educ Non Exam Level Cd'].value_counts()"
   ]
  },
  {
   "cell_type": "markdown",
   "metadata": {},
   "source": [
    "---"
   ]
  },
  {
   "cell_type": "code",
   "execution_count": 143,
   "metadata": {},
   "outputs": [
    {
     "data": {
      "text/html": [
       "<div>\n",
       "<style scoped>\n",
       "    .dataframe tbody tr th:only-of-type {\n",
       "        vertical-align: middle;\n",
       "    }\n",
       "\n",
       "    .dataframe tbody tr th {\n",
       "        vertical-align: top;\n",
       "    }\n",
       "\n",
       "    .dataframe thead th {\n",
       "        text-align: right;\n",
       "    }\n",
       "</style>\n",
       "<table border=\"1\" class=\"dataframe\">\n",
       "  <thead>\n",
       "    <tr style=\"text-align: right;\">\n",
       "      <th></th>\n",
       "      <th>Withdrew1</th>\n",
       "      <th>Withdrew2</th>\n",
       "    </tr>\n",
       "    <tr>\n",
       "      <th>Term</th>\n",
       "      <th></th>\n",
       "      <th></th>\n",
       "    </tr>\n",
       "  </thead>\n",
       "  <tbody>\n",
       "    <tr>\n",
       "      <td>1_Fa17</td>\n",
       "      <td>0.000000</td>\n",
       "      <td>0.012858</td>\n",
       "    </tr>\n",
       "    <tr>\n",
       "      <td>2_Sp18</td>\n",
       "      <td>0.000000</td>\n",
       "      <td>0.015700</td>\n",
       "    </tr>\n",
       "    <tr>\n",
       "      <td>3_Fa18</td>\n",
       "      <td>0.037437</td>\n",
       "      <td>0.012959</td>\n",
       "    </tr>\n",
       "    <tr>\n",
       "      <td>4_Sp19</td>\n",
       "      <td>0.045039</td>\n",
       "      <td>0.013371</td>\n",
       "    </tr>\n",
       "    <tr>\n",
       "      <td>5_Fa19</td>\n",
       "      <td>0.043542</td>\n",
       "      <td>0.011070</td>\n",
       "    </tr>\n",
       "  </tbody>\n",
       "</table>\n",
       "</div>"
      ],
      "text/plain": [
       "        Withdrew1  Withdrew2\n",
       "Term                        \n",
       "1_Fa17   0.000000   0.012858\n",
       "2_Sp18   0.000000   0.015700\n",
       "3_Fa18   0.037437   0.012959\n",
       "4_Sp19   0.045039   0.013371\n",
       "5_Fa19   0.043542   0.011070"
      ]
     },
     "execution_count": 143,
     "metadata": {},
     "output_type": "execute_result"
    }
   ],
   "source": [
    "gb1 = df[['Term', 'Withdrew1', 'Withdrew2']].groupby('Term').mean()\n",
    "gb1"
   ]
  },
  {
   "cell_type": "code",
   "execution_count": 150,
   "metadata": {},
   "outputs": [
    {
     "data": {
      "image/png": "[encoded data removed]",
      "text/plain": [
       "<Figure size 432x288 with 1 Axes>"
      ]
     },
     "metadata": {
      "needs_background": "light"
     },
     "output_type": "display_data"
    }
   ],
   "source": [
    "plt.bar(gb1.index, gb1.Withdrew1)\n",
    "plt.xlabel('Semester')\n",
    "plt.ylabel('Withdraw Rate')\n",
    "plt.title('Withdraw1 Rate per Semester');"
   ]
  },
  {
   "cell_type": "code",
   "execution_count": 151,
   "metadata": {},
   "outputs": [
    {
     "data": {
      "image/png": "[encoded data removed]",
      "text/plain": [
       "<Figure size 432x288 with 1 Axes>"
      ]
     },
     "metadata": {
      "needs_background": "light"
     },
     "output_type": "display_data"
    }
   ],
   "source": [
    "plt.bar(gb1.index, gb1.Withdrew2)\n",
    "plt.xlabel('Semester')\n",
    "plt.ylabel('Withdraw Rate')\n",
    "plt.title('Withdraw2 Rate per Semester');"
   ]
  },
  {
   "cell_type": "code",
   "execution_count": 98,
   "metadata": {},
   "outputs": [],
   "source": [
    "dfnw = df[df['Withdrew1'] == 0]"
   ]
  },
  {
   "cell_type": "code",
   "execution_count": 99,
   "metadata": {},
   "outputs": [
    {
     "data": {
      "text/html": [
       "<div>\n",
       "<style scoped>\n",
       "    .dataframe tbody tr th:only-of-type {\n",
       "        vertical-align: middle;\n",
       "    }\n",
       "\n",
       "    .dataframe tbody tr th {\n",
       "        vertical-align: top;\n",
       "    }\n",
       "\n",
       "    .dataframe thead th {\n",
       "        text-align: right;\n",
       "    }\n",
       "</style>\n",
       "<table border=\"1\" class=\"dataframe\">\n",
       "  <thead>\n",
       "    <tr style=\"text-align: right;\">\n",
       "      <th></th>\n",
       "      <th>Student Id</th>\n",
       "      <th>Entry Status Cd</th>\n",
       "      <th>Educ Non Exam Level Cd</th>\n",
       "      <th>Academic Department Short Nm - Major</th>\n",
       "      <th>Cum Gpa No</th>\n",
       "      <th>Cum Ucb Letgrd Units No</th>\n",
       "      <th>Eot Term Letgrd Units Complete</th>\n",
       "      <th>Eot Term Pnp Units Completed</th>\n",
       "      <th>Eot Trm Tot Letgrd Grd Pnts No</th>\n",
       "      <th>Term</th>\n",
       "      <th>Resolved</th>\n",
       "      <th>Withdrew</th>\n",
       "    </tr>\n",
       "  </thead>\n",
       "  <tbody>\n",
       "    <tr>\n",
       "      <td>0</td>\n",
       "      <td>43ebc54ce244f1e20063c73b4007e641416d78a1ae9c5b...</td>\n",
       "      <td>NF</td>\n",
       "      <td>4</td>\n",
       "      <td>L&amp;S Undeclared</td>\n",
       "      <td>2.795</td>\n",
       "      <td>88.0</td>\n",
       "      <td>8.0</td>\n",
       "      <td>NaN</td>\n",
       "      <td>17.2</td>\n",
       "      <td>3_Fa18</td>\n",
       "      <td>0</td>\n",
       "      <td>0</td>\n",
       "    </tr>\n",
       "    <tr>\n",
       "      <td>1</td>\n",
       "      <td>dc5db1944a344fbbca9275a2f131970f0afa59d03428c5...</td>\n",
       "      <td>NF</td>\n",
       "      <td>4</td>\n",
       "      <td>UG Interdisciplinary Studies</td>\n",
       "      <td>2.365</td>\n",
       "      <td>85.0</td>\n",
       "      <td>16.0</td>\n",
       "      <td>NaN</td>\n",
       "      <td>56.4</td>\n",
       "      <td>3_Fa18</td>\n",
       "      <td>1</td>\n",
       "      <td>0</td>\n",
       "    </tr>\n",
       "    <tr>\n",
       "      <td>5</td>\n",
       "      <td>d04819b68a78ccf912b725e793eed6ca26100020d8ea1c...</td>\n",
       "      <td>NF</td>\n",
       "      <td>3</td>\n",
       "      <td>L&amp;S Data Science</td>\n",
       "      <td>3.083</td>\n",
       "      <td>53.0</td>\n",
       "      <td>4.5</td>\n",
       "      <td>NaN</td>\n",
       "      <td>17.7</td>\n",
       "      <td>3_Fa18</td>\n",
       "      <td>1</td>\n",
       "      <td>0</td>\n",
       "    </tr>\n",
       "    <tr>\n",
       "      <td>6</td>\n",
       "      <td>7efa9d1237dd4e516c51d483b71c58fc348b433287c3bb...</td>\n",
       "      <td>NF</td>\n",
       "      <td>4</td>\n",
       "      <td>L&amp;S Undeclared</td>\n",
       "      <td>2.135</td>\n",
       "      <td>96.0</td>\n",
       "      <td>12.0</td>\n",
       "      <td>NaN</td>\n",
       "      <td>24.0</td>\n",
       "      <td>3_Fa18</td>\n",
       "      <td>0</td>\n",
       "      <td>0</td>\n",
       "    </tr>\n",
       "    <tr>\n",
       "      <td>9</td>\n",
       "      <td>ddfe62f011c8c088671a3cc3cb51f5d091d706fb686e97...</td>\n",
       "      <td>NF</td>\n",
       "      <td>4</td>\n",
       "      <td>L&amp;S Undeclared</td>\n",
       "      <td>2.491</td>\n",
       "      <td>76.0</td>\n",
       "      <td>10.0</td>\n",
       "      <td>NaN</td>\n",
       "      <td>34.9</td>\n",
       "      <td>3_Fa18</td>\n",
       "      <td>0</td>\n",
       "      <td>0</td>\n",
       "    </tr>\n",
       "    <tr>\n",
       "      <td>...</td>\n",
       "      <td>...</td>\n",
       "      <td>...</td>\n",
       "      <td>...</td>\n",
       "      <td>...</td>\n",
       "      <td>...</td>\n",
       "      <td>...</td>\n",
       "      <td>...</td>\n",
       "      <td>...</td>\n",
       "      <td>...</td>\n",
       "      <td>...</td>\n",
       "      <td>...</td>\n",
       "      <td>...</td>\n",
       "    </tr>\n",
       "    <tr>\n",
       "      <td>1338</td>\n",
       "      <td>cab13e08f9d7e7644a0f277c84dec822daec7ea970ba9a...</td>\n",
       "      <td>NF</td>\n",
       "      <td>2</td>\n",
       "      <td>Mathematics</td>\n",
       "      <td>3.838</td>\n",
       "      <td>47.0</td>\n",
       "      <td>12.0</td>\n",
       "      <td>NaN</td>\n",
       "      <td>44.0</td>\n",
       "      <td>5_Fa19</td>\n",
       "      <td>1</td>\n",
       "      <td>0</td>\n",
       "    </tr>\n",
       "    <tr>\n",
       "      <td>1340</td>\n",
       "      <td>f87fb715fb41c987b7e53b0920cd977daf68b353db74d2...</td>\n",
       "      <td>NF</td>\n",
       "      <td>2</td>\n",
       "      <td>L&amp;S Undeclared</td>\n",
       "      <td>2.605</td>\n",
       "      <td>34.0</td>\n",
       "      <td>10.0</td>\n",
       "      <td>NaN</td>\n",
       "      <td>27.4</td>\n",
       "      <td>5_Fa19</td>\n",
       "      <td>0</td>\n",
       "      <td>0</td>\n",
       "    </tr>\n",
       "    <tr>\n",
       "      <td>1342</td>\n",
       "      <td>0341f4a280b7749d55629ff2c5b6d959608436b4806947...</td>\n",
       "      <td>NF</td>\n",
       "      <td>2</td>\n",
       "      <td>L&amp;S Undeclared</td>\n",
       "      <td>3.437</td>\n",
       "      <td>51.0</td>\n",
       "      <td>17.5</td>\n",
       "      <td>NaN</td>\n",
       "      <td>53.1</td>\n",
       "      <td>5_Fa19</td>\n",
       "      <td>0</td>\n",
       "      <td>0</td>\n",
       "    </tr>\n",
       "    <tr>\n",
       "      <td>1346</td>\n",
       "      <td>253a8b58c5c63c931403df47cd6a43864d4b1d52d5cc35...</td>\n",
       "      <td>NF</td>\n",
       "      <td>2</td>\n",
       "      <td>L&amp;S Undeclared</td>\n",
       "      <td>2.892</td>\n",
       "      <td>41.0</td>\n",
       "      <td>11.0</td>\n",
       "      <td>NaN</td>\n",
       "      <td>20.2</td>\n",
       "      <td>5_Fa19</td>\n",
       "      <td>0</td>\n",
       "      <td>0</td>\n",
       "    </tr>\n",
       "    <tr>\n",
       "      <td>1350</td>\n",
       "      <td>cada315cd568caf3b68e5ea809701194adec190c271ae3...</td>\n",
       "      <td>AD</td>\n",
       "      <td>3</td>\n",
       "      <td>L&amp;S Undeclared</td>\n",
       "      <td>2.797</td>\n",
       "      <td>35.0</td>\n",
       "      <td>11.0</td>\n",
       "      <td>NaN</td>\n",
       "      <td>33.9</td>\n",
       "      <td>5_Fa19</td>\n",
       "      <td>0</td>\n",
       "      <td>0</td>\n",
       "    </tr>\n",
       "  </tbody>\n",
       "</table>\n",
       "<p>1770 rows × 12 columns</p>\n",
       "</div>"
      ],
      "text/plain": [
       "                                             Student Id Entry Status Cd  \\\n",
       "0     43ebc54ce244f1e20063c73b4007e641416d78a1ae9c5b...              NF   \n",
       "1     dc5db1944a344fbbca9275a2f131970f0afa59d03428c5...              NF   \n",
       "5     d04819b68a78ccf912b725e793eed6ca26100020d8ea1c...              NF   \n",
       "6     7efa9d1237dd4e516c51d483b71c58fc348b433287c3bb...              NF   \n",
       "9     ddfe62f011c8c088671a3cc3cb51f5d091d706fb686e97...              NF   \n",
       "...                                                 ...             ...   \n",
       "1338  cab13e08f9d7e7644a0f277c84dec822daec7ea970ba9a...              NF   \n",
       "1340  f87fb715fb41c987b7e53b0920cd977daf68b353db74d2...              NF   \n",
       "1342  0341f4a280b7749d55629ff2c5b6d959608436b4806947...              NF   \n",
       "1346  253a8b58c5c63c931403df47cd6a43864d4b1d52d5cc35...              NF   \n",
       "1350  cada315cd568caf3b68e5ea809701194adec190c271ae3...              AD   \n",
       "\n",
       "     Educ Non Exam Level Cd Academic Department Short Nm - Major  Cum Gpa No  \\\n",
       "0                         4                       L&S Undeclared       2.795   \n",
       "1                         4         UG Interdisciplinary Studies       2.365   \n",
       "5                         3                     L&S Data Science       3.083   \n",
       "6                         4                       L&S Undeclared       2.135   \n",
       "9                         4                       L&S Undeclared       2.491   \n",
       "...                     ...                                  ...         ...   \n",
       "1338                      2                          Mathematics       3.838   \n",
       "1340                      2                       L&S Undeclared       2.605   \n",
       "1342                      2                       L&S Undeclared       3.437   \n",
       "1346                      2                       L&S Undeclared       2.892   \n",
       "1350                      3                       L&S Undeclared       2.797   \n",
       "\n",
       "      Cum Ucb Letgrd Units No  Eot Term Letgrd Units Complete  \\\n",
       "0                        88.0                             8.0   \n",
       "1                        85.0                            16.0   \n",
       "5                        53.0                             4.5   \n",
       "6                        96.0                            12.0   \n",
       "9                        76.0                            10.0   \n",
       "...                       ...                             ...   \n",
       "1338                     47.0                            12.0   \n",
       "1340                     34.0                            10.0   \n",
       "1342                     51.0                            17.5   \n",
       "1346                     41.0                            11.0   \n",
       "1350                     35.0                            11.0   \n",
       "\n",
       "      Eot Term Pnp Units Completed  Eot Trm Tot Letgrd Grd Pnts No    Term  \\\n",
       "0                              NaN                            17.2  3_Fa18   \n",
       "1                              NaN                            56.4  3_Fa18   \n",
       "5                              NaN                            17.7  3_Fa18   \n",
       "6                              NaN                            24.0  3_Fa18   \n",
       "9                              NaN                            34.9  3_Fa18   \n",
       "...                            ...                             ...     ...   \n",
       "1338                           NaN                            44.0  5_Fa19   \n",
       "1340                           NaN                            27.4  5_Fa19   \n",
       "1342                           NaN                            53.1  5_Fa19   \n",
       "1346                           NaN                            20.2  5_Fa19   \n",
       "1350                           NaN                            33.9  5_Fa19   \n",
       "\n",
       "      Resolved  Withdrew  \n",
       "0            0         0  \n",
       "1            1         0  \n",
       "5            1         0  \n",
       "6            0         0  \n",
       "9            0         0  \n",
       "...        ...       ...  \n",
       "1338         1         0  \n",
       "1340         0         0  \n",
       "1342         0         0  \n",
       "1346         0         0  \n",
       "1350         0         0  \n",
       "\n",
       "[1770 rows x 12 columns]"
      ]
     },
     "execution_count": 99,
     "metadata": {},
     "output_type": "execute_result"
    }
   ],
   "source": [
    "dfnw[dfnw['Eot Term Pnp Units Completed'].isnull()]"
   ]
  },
  {
   "cell_type": "code",
   "execution_count": 59,
   "metadata": {},
   "outputs": [
    {
     "data": {
      "text/plain": [
       "array([ 7. ,  0. ,  2. ,  1. ,  9. ,  5. ,  3. ,  4. ,  8. ,  0.5, 10. ,\n",
       "        6. ,  3.5,  1.5,  4.5, 12. ,  5.5, 11. ,  2.5,  8.5,  9.5,  6.5,\n",
       "       22. ,  3.3,  7.5, 13. ,  nan, 15. ])"
      ]
     },
     "execution_count": 59,
     "metadata": {},
     "output_type": "execute_result"
    }
   ],
   "source": [
    "dfnw['Eot Term Pnp Units Completed'].unique()"
   ]
  },
  {
   "cell_type": "code",
   "execution_count": 61,
   "metadata": {},
   "outputs": [
    {
     "data": {
      "text/plain": [
       "array([ 4. ,  8. , 12. , 13. ,  6. ,  7. , 16. ,  0. , 11. ,  1. , 17. ,\n",
       "       15. , 14. ,  9. ,  2. , 10. ,  3. , 19. , 21. , 18. , 12.5, 20. ,\n",
       "        5. , 15.5,  2.7, 23. , 13.5,  9.5, 20.5,  7.5, 16.5,  8.5,  9.6,\n",
       "       11.5,  3.5, 22. , 14.5, 19.5,  9.9, 19.8, 27. ,  4.5, 10.5, 17.5,\n",
       "        6.5, 16.2, 10.3, 24. , 25. ])"
      ]
     },
     "execution_count": 61,
     "metadata": {},
     "output_type": "execute_result"
    }
   ],
   "source": [
    "dfnw['Eot Term Letgrd Units Complete'].unique()"
   ]
  },
  {
   "cell_type": "code",
   "execution_count": 62,
   "metadata": {},
   "outputs": [
    {
     "data": {
      "text/plain": [
       "array([  6.8,  21.2,  42.8,  39.1,  46.8,  11.4,  13.2,  21.3,  49.2,\n",
       "         0. ,  38.4,  58.8,   3. ,  39.4,  51.1,  40. ,  18.8,  12.7,\n",
       "         9.2,  50.1,  28. ,  55.5,  18.9,  17.1,  51.3,  22.8,  37.9,\n",
       "        21.9,  44. ,  29.2,  24. ,   6.9,  52.3,  43.3,  20. ,  28.1,\n",
       "        34.8,  17.2,   8. ,  52. ,  18.5,  41.2,  40.4,  39. ,  64. ,\n",
       "        25.2,  29.7,  48.7,  33.9,  23.1,  36.1,  39.6,  24.2,  20.6,\n",
       "        46.4,  45.8,  17.8,  36. ,   9.9,  45.7,  37.2,  38.8,  53.4,\n",
       "        33.6,  17.6,  71.7,  25.3,  56. ,  49.6,  33. ,  34.2,  26.9,\n",
       "        41.6,  29.8,  51.7,  32.4,  26.8,  32. ,  22.4,  47.8,  30. ,\n",
       "        30.8,  53.2,  22.2,   5.2,  40.9,  26.7,  41.7,  59.2,  35.8,\n",
       "        39.8,  45.2,  60.4,  57.2,  56.7,  13.6,  54.6,  39.2,  16.1,\n",
       "        35.6,  21.6,  12. ,  48. ,  41.8,  43.7,  16.5,  48.2,  38.1,\n",
       "        12.8,  17.3,  40.5,  48.3,  32.3,  30.5,  35.9,  37.6,  45. ,\n",
       "        16. ,   6. ,  40.3,  50.8,  62.8,  42.4,  47.1,  55.3,  31.6,\n",
       "        23. ,  50.2,   9. ,  21. ,  26.3,  43. ,  42.9,  13.8,  57.8,\n",
       "        28.3,  24.8,  45.6,  19.6,  44.8,  36.4,  14.8,  30.6,  56.9,\n",
       "        29.5,  80. ,  61.6,  39.9,  32.1,  35.1,  48.4,  30.4,  43.5,\n",
       "        36.6,  27.6,  28.6,  31.9,  50.4,  40.1,  48.1,  41.9,  55.1,\n",
       "        14. ,  14.9,  20.7,  49.9,  39.5,  24.3,  34.3,  27.9,  44.4,\n",
       "        28.5,  21.1,  26.2,  40.6,  56.3,  53.7,  50.9,  13.5,  32.7,\n",
       "        54.8,  25.6,  26.4,  56.6,  54.4,  49. ,  21.5,  10.8,  46.2,\n",
       "        47.2,  35.4,  31.8,  57.6,  66.8,  34. ,  29.4,  14.7,  36.8,\n",
       "        43.8,  33.7,  49.5,  42.7,  36.9,  33.2,  52.4,  31.2,  58.5,\n",
       "        53.5,  42.5,  44.6,  58.1,  29. ,  46.6,  46. ,  18.3,  34.9,\n",
       "        29.3,   8.9,  46.5,  45.3,  29.6,  27.1,  47.6,  45.9,  33.5,\n",
       "        33.1,  60. ,  62.3,  57.5,  51.8,  34.5,  34.4,  47.4,  31.1,\n",
       "        23.7,  68.6,  55.6,  68. ,  48.6,  58. ,  24.5,  25.9,  42. ,\n",
       "        23.6,  65.2,  59.1,  32.8,  23.3,  84. ,  40.2,  55.7,  57.7,\n",
       "        53.3,  26.6,  38.7,  89.6,  42.3,  53.6,  44.7,  47.9,  10.5,\n",
       "        31.4,  44.1,  51.2,  57. ,  61.3,  15. ,  36.7,  73.6,  52.1,\n",
       "        56.2,  25. ,  54. ,  43.1,  23.2,  55.9,  53.1,  52.6,  32.2,\n",
       "        66.9,  61.9,  28.7,  50.3,  58.4,  42.2,  27.4,  15.1,  35.2,\n",
       "        24.9,  50. ,  17. ,  34.1,  49.4,  25.4,  60.8,  30.9,  37. ,\n",
       "        33.3,  55.8,  38. ,  61.2,  11.2,  15.5,  34.7,  60.1,  65.3,\n",
       "        38.3,  62.5,  50.6,  74.8,  69.2,   4. ,  39.7,  34.6,  37.5,\n",
       "        58.3,  22. ,  28.8,  49.3,  27.8,  26.5,  53.9,  56.8,  43.2,\n",
       "        29.9,  19.2,  37.8,   3.4,  69.9,  20.3,  44.9,  52.5,  35. ,\n",
       "        28.4,  22.6,  19.8,  24.7,  24.4,   9.6,  37.7,  31. ,  64.1,\n",
       "        48.5,  47.5,  57.9,  45.4,  24.1,  66.4,  32.6,  36.3,  43.6,\n",
       "        23.4,  18.2,  38.6,  35.5,  37.1,  15.6,  27.5,  52.7,  32.5,\n",
       "        27. ,  41. ,  31.7,  67.1,  44.3,  44.5,  23.8,  25.8,  41.1,\n",
       "        41.3,  49.1,  26. ,  35.7,  19.3,  31.5,  33.8,  11.9,  50.5,\n",
       "        31.3,  40.7,  16.8,  18.4,  16.2,  54.5,  53. ,  43.4,  11.1,\n",
       "        38.9,  44.2,  11.5,  17.7,  47.7,  30.7,  29.1,  51.5,   9.7,\n",
       "        18.6,  56.4,  40.8,  25.1,  27.2,  58.7,  10.7,  65.6,  13.1,\n",
       "        51.4,  30.3,  54.2,  27.7,  42.6,  37.3,  45.1,  55.2,   8.1,\n",
       "        23.9,  51.6,  57.3,  27.3,  49.7,  16.7,  46.9,  25.5,  42.1,\n",
       "        28.9,  47.3,  20.8,   7.4,  19.1,  14.1,  72.4,  23.5,  18. ,\n",
       "        45.5,  28.2,  36.5,  20.9,  33.4,  41.4,  10. ,  15.9,  46.7,\n",
       "        51.9,  19.9,  14.2,  20.1,  36.2,  61.4,   5.1,   8.8,  52.2,\n",
       "        14.6,  30.1,  73.2,  62.9,  14.4,  77.6,  54.1,  57.4,   7. ,\n",
       "        39.3,  72. ,  65.8,  63.1,  62.2,  15.7,  59.7,  15.4,  70.4,\n",
       "       104. ,  47. ,  54.9,  48.8,  61.7,  66.5,   8.4,  65.4,  70.8,\n",
       "        60.6,  63.2,  10.9,  17.9,  32.9,  69. ,  75.1,  46.1,  76. ,\n",
       "        46.3,  22.7,  30.2,  21.7,   9.1,  15.8,  16.9,  38.5,   2.8,\n",
       "        38.2,  60.9,   6.1,  18.7,  64.5,  12.9,  22.9,  72.7,  14.3,\n",
       "        41.5,  70.2,  43.9,  56.1,  12.2,  19.4,  20.4,  15.2,  11.3,\n",
       "         5.8,  37.4,  16.6,  58.2,  26.1,  61.1,  60.7,  62.4,  62.7,\n",
       "        51. ,  60.3,  62.1,   2.1,  55.4,  35.3,  22.5,  22.1,  74.5,\n",
       "        17.5,  52.8,  24.6,  96. ,  93.6,  22.3,   4.6,  21.4,  21.8,\n",
       "        19.5,  63.6,  77.2,  10.4,  74.4,  18.1,  77.4,  59.4,  62.6,\n",
       "        59.8,  20.5,  54.3,  60.5,  67.6,  67.2,  56.5,  65.9,  61.8,\n",
       "        92. ,  81.2,  66.2,  14.5,  78.8,  13.9,  58.6,  81.6,  16.3,\n",
       "        63.7,  61. ,   8.3,   9.4,  96.7,  59.6,  64.7,  25.7,   7.9,\n",
       "        13.7,  74.9,  73.3,  66.6,  55. ,  63.3,   6.6,  88. ,  16.4,\n",
       "        82.8,  53.8,  63.8,  12.6,  62. ,   2.7,  52.9,  20.2])"
      ]
     },
     "execution_count": 62,
     "metadata": {},
     "output_type": "execute_result"
    }
   ],
   "source": [
    "dfnw['Eot Trm Tot Letgrd Grd Pnts No'].unique()"
   ]
  },
  {
   "cell_type": "code",
   "execution_count": 65,
   "metadata": {},
   "outputs": [],
   "source": [
    "dfnw_drop = dfnw.dropna()"
   ]
  },
  {
   "cell_type": "code",
   "execution_count": 70,
   "metadata": {},
   "outputs": [
    {
     "data": {
      "text/html": [
       "<div>\n",
       "<style scoped>\n",
       "    .dataframe tbody tr th:only-of-type {\n",
       "        vertical-align: middle;\n",
       "    }\n",
       "\n",
       "    .dataframe tbody tr th {\n",
       "        vertical-align: top;\n",
       "    }\n",
       "\n",
       "    .dataframe thead th {\n",
       "        text-align: right;\n",
       "    }\n",
       "</style>\n",
       "<table border=\"1\" class=\"dataframe\">\n",
       "  <thead>\n",
       "    <tr style=\"text-align: right;\">\n",
       "      <th></th>\n",
       "      <th>Cum Gpa No</th>\n",
       "      <th>Cum Ucb Letgrd Units No</th>\n",
       "      <th>Eot Term Letgrd Units Complete</th>\n",
       "      <th>Eot Term Pnp Units Completed</th>\n",
       "      <th>Eot Trm Tot Letgrd Grd Pnts No</th>\n",
       "      <th>Resolved</th>\n",
       "      <th>Withdrew</th>\n",
       "      <th>NF</th>\n",
       "    </tr>\n",
       "    <tr>\n",
       "      <th>Term</th>\n",
       "      <th></th>\n",
       "      <th></th>\n",
       "      <th></th>\n",
       "      <th></th>\n",
       "      <th></th>\n",
       "      <th></th>\n",
       "      <th></th>\n",
       "      <th></th>\n",
       "    </tr>\n",
       "  </thead>\n",
       "  <tbody>\n",
       "    <tr>\n",
       "      <td>1_Fa17</td>\n",
       "      <td>3.068443</td>\n",
       "      <td>36.762588</td>\n",
       "      <td>10.869888</td>\n",
       "      <td>1.920365</td>\n",
       "      <td>34.580382</td>\n",
       "      <td>0.423891</td>\n",
       "      <td>0.0</td>\n",
       "      <td>0.445044</td>\n",
       "    </tr>\n",
       "    <tr>\n",
       "      <td>2_Sp18</td>\n",
       "      <td>3.008947</td>\n",
       "      <td>44.947544</td>\n",
       "      <td>11.269577</td>\n",
       "      <td>1.661869</td>\n",
       "      <td>35.312892</td>\n",
       "      <td>0.413370</td>\n",
       "      <td>0.0</td>\n",
       "      <td>0.539563</td>\n",
       "    </tr>\n",
       "    <tr>\n",
       "      <td>3_Fa18</td>\n",
       "      <td>3.190941</td>\n",
       "      <td>58.223067</td>\n",
       "      <td>11.070400</td>\n",
       "      <td>2.944400</td>\n",
       "      <td>35.544667</td>\n",
       "      <td>0.500000</td>\n",
       "      <td>0.0</td>\n",
       "      <td>0.854667</td>\n",
       "    </tr>\n",
       "    <tr>\n",
       "      <td>4_Sp19</td>\n",
       "      <td>3.143604</td>\n",
       "      <td>44.882392</td>\n",
       "      <td>10.844284</td>\n",
       "      <td>2.848883</td>\n",
       "      <td>34.592116</td>\n",
       "      <td>0.387648</td>\n",
       "      <td>0.0</td>\n",
       "      <td>0.646518</td>\n",
       "    </tr>\n",
       "    <tr>\n",
       "      <td>5_Fa19</td>\n",
       "      <td>3.138924</td>\n",
       "      <td>56.987395</td>\n",
       "      <td>10.644958</td>\n",
       "      <td>3.100140</td>\n",
       "      <td>33.524930</td>\n",
       "      <td>0.501401</td>\n",
       "      <td>0.0</td>\n",
       "      <td>0.827731</td>\n",
       "    </tr>\n",
       "  </tbody>\n",
       "</table>\n",
       "</div>"
      ],
      "text/plain": [
       "        Cum Gpa No  Cum Ucb Letgrd Units No  Eot Term Letgrd Units Complete  \\\n",
       "Term                                                                          \n",
       "1_Fa17    3.068443                36.762588                       10.869888   \n",
       "2_Sp18    3.008947                44.947544                       11.269577   \n",
       "3_Fa18    3.190941                58.223067                       11.070400   \n",
       "4_Sp19    3.143604                44.882392                       10.844284   \n",
       "5_Fa19    3.138924                56.987395                       10.644958   \n",
       "\n",
       "        Eot Term Pnp Units Completed  Eot Trm Tot Letgrd Grd Pnts No  \\\n",
       "Term                                                                   \n",
       "1_Fa17                      1.920365                       34.580382   \n",
       "2_Sp18                      1.661869                       35.312892   \n",
       "3_Fa18                      2.944400                       35.544667   \n",
       "4_Sp19                      2.848883                       34.592116   \n",
       "5_Fa19                      3.100140                       33.524930   \n",
       "\n",
       "        Resolved  Withdrew        NF  \n",
       "Term                                  \n",
       "1_Fa17  0.423891       0.0  0.445044  \n",
       "2_Sp18  0.413370       0.0  0.539563  \n",
       "3_Fa18  0.500000       0.0  0.854667  \n",
       "4_Sp19  0.387648       0.0  0.646518  \n",
       "5_Fa19  0.501401       0.0  0.827731  "
      ]
     },
     "execution_count": 70,
     "metadata": {},
     "output_type": "execute_result"
    }
   ],
   "source": [
    "gb2 = dfnw_drop.groupby('Term').mean()\n",
    "gb2"
   ]
  },
  {
   "cell_type": "code",
   "execution_count": 76,
   "metadata": {},
   "outputs": [
    {
     "data": {
      "image/png": "[encoded data removed]",
      "text/plain": [
       "<Figure size 432x288 with 1 Axes>"
      ]
     },
     "metadata": {
      "needs_background": "light"
     },
     "output_type": "display_data"
    }
   ],
   "source": [
    "plt.bar(gb2.index, gb2['NF'])\n",
    "plt.xlabel('Semester')\n",
    "plt.ylabel('Rate of Freshman Entry')\n",
    "plt.title('Rate of Freshman Entry per Semester');"
   ]
  },
  {
   "cell_type": "code",
   "execution_count": 196,
   "metadata": {},
   "outputs": [
    {
     "data": {
      "image/png": "[encoded data removed]",
      "text/plain": [
       "<Figure size 432x288 with 1 Axes>"
      ]
     },
     "metadata": {
      "needs_background": "light"
     },
     "output_type": "display_data"
    }
   ],
   "source": [
    "plt.bar(gb2.index, gb2.Resolved)\n",
    "plt.xlabel('Semester')\n",
    "plt.ylabel('Resolve Rate')\n",
    "plt.title('Resolve Rate per Semester');"
   ]
  },
  {
   "cell_type": "code",
   "execution_count": 80,
   "metadata": {},
   "outputs": [
    {
     "data": {
      "image/png": "[encoded data removed]",
      "text/plain": [
       "<Figure size 432x288 with 1 Axes>"
      ]
     },
     "metadata": {
      "needs_background": "light"
     },
     "output_type": "display_data"
    }
   ],
   "source": [
    "plt.bar(gb2.index, gb2['Cum Gpa No'])\n",
    "plt.xlabel('Semester')\n",
    "plt.ylabel('Average Cumulative GPA')\n",
    "plt.title('Average Cumulative GPA per Semester')\n",
    "plt.ylim([1,3.5]);"
   ]
  },
  {
   "cell_type": "code",
   "execution_count": 82,
   "metadata": {},
   "outputs": [
    {
     "data": {
      "image/png": "[encoded data removed]",
      "text/plain": [
       "<Figure size 432x288 with 1 Axes>"
      ]
     },
     "metadata": {
      "needs_background": "light"
     },
     "output_type": "display_data"
    }
   ],
   "source": [
    "plt.bar(gb2.index, gb2['Cum Ucb Letgrd Units No'])\n",
    "plt.xlabel('Semester')\n",
    "plt.ylabel('Cumulative UCB Letter Grade Units')\n",
    "plt.title('Cumulative UCB Letter Grade Units per Semester');"
   ]
  },
  {
   "cell_type": "markdown",
   "metadata": {},
   "source": [
    "---"
   ]
  },
  {
   "cell_type": "code",
   "execution_count": null,
   "metadata": {},
   "outputs": [],
   "source": []
  }
 ],
 "metadata": {
  "kernelspec": {
   "display_name": "Python 3",
   "language": "python",
   "name": "python3"
  },
  "language_info": {
   "codemirror_mode": {
    "name": "ipython",
    "version": 3
   },
   "file_extension": ".py",
   "mimetype": "text/x-python",
   "name": "python",
   "nbconvert_exporter": "python",
   "pygments_lexer": "ipython3",
   "version": "3.7.4"
  }
 },
 "nbformat": 4,
 "nbformat_minor": 2
}
